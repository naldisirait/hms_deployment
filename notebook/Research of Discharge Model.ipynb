{
 "cells": [
  {
   "cell_type": "code",
   "execution_count": 1,
   "id": "ffad1800-f913-43d2-a706-62cb4fd171b4",
   "metadata": {},
   "outputs": [
    {
     "name": "stdout",
     "output_type": "stream",
     "text": [
      "Device: cuda:0\n"
     ]
    }
   ],
   "source": [
    "import sys\n",
    "import os\n",
    "import numpy as np\n",
    "import torch\n",
    "import yaml\n",
    "import pandas as pd\n",
    "import torch.nn as nn\n",
    "import torch.optim as optim\n",
    "import matplotlib.pyplot as plt\n",
    "from torch.utils.data import Dataset, DataLoader\n",
    "import random\n",
    "\n",
    "# Add the path to the parent directory of subfolder\n",
    "sys.path.append(os.path.abspath(os.path.join(os.getcwd(), '../..')))\n",
    "\n",
    "# Now you can import your_module from subfolder\n",
    "from src import data_processing, data_ingesting, utils, evaluation\n",
    "from models.discharge import model_discharge\n",
    "\n",
    "def set_seed(seed):\n",
    "    \"\"\"\n",
    "    Set the seed for generating random numbers.\n",
    "\n",
    "    Args:\n",
    "        seed (int): The seed value to use.\n",
    "    \"\"\"\n",
    "    torch.manual_seed(seed)\n",
    "    torch.cuda.manual_seed(seed)\n",
    "    torch.cuda.manual_seed_all(seed)  # if you are using multi-GPU.\n",
    "    np.random.seed(seed)\n",
    "    random.seed(seed)\n",
    "    torch.backends.cudnn.deterministic = True  # for reproducibility\n",
    "    torch.backends.cudnn.benchmark = False  # for reproducibility\n",
    "\n",
    "# set seed\n",
    "set_seed(18)\n",
    "\n",
    "gpu_idx = 0\n",
    "device = torch.device(f\"cuda:{gpu_idx}\") if torch.cuda.is_available() else torch.device(\"cpu\")\n",
    "print(\"Device:\", device)"
   ]
  },
  {
   "cell_type": "code",
   "execution_count": 2,
   "id": "39435e3b-bd2c-4931-96e8-3ffe4439e0da",
   "metadata": {},
   "outputs": [],
   "source": [
    "path_dataset = r'C:\\Users\\62812\\Documents\\Kerjaan Meteorologi\\FEWS BNPB\\Code\\github\\EWS of Flood Forecast\\data\\raw\\ML 1\\Hidrologi Palu 2016-2024.xlsx'\n",
    "data = pd.read_excel(path_dataset)"
   ]
  },
  {
   "cell_type": "code",
   "execution_count": 3,
   "id": "64186cc5-439a-4ff7-9008-d879acbc4801",
   "metadata": {},
   "outputs": [],
   "source": [
    "#Drop the first two month data. total two months data is 2 * 30 * 24 = 1440. Ask yogi why.\n",
    "col_to_drop_for_x = ['No', 'Date', 'Miu', 'Kualakuning', 'Tuvanjuka', 'Palu', 'Observasi']\n",
    "target = 'Miu'\n",
    "X = data.drop(columns = col_to_drop_for_x).to_numpy()[1440:]\n",
    "y = data['Miu'].values[1440:]\n",
    "dates = data['Date'][1440:]"
   ]
  },
  {
   "cell_type": "code",
   "execution_count": 4,
   "id": "952ef248-fda8-4546-b0af-dbc3b4c7d026",
   "metadata": {},
   "outputs": [],
   "source": [
    "#seperate train and val dataset\n",
    "train_dist = 0.8 #set train for dataset\n",
    "len_train = int(train_dist * len(X))\n",
    "\n",
    "X_train, y_train  = X[0:len_train], y[0:len_train]\n",
    "date_train = dates[0:len_train]\n",
    "date_val = dates[len_train:]\n",
    "\n",
    "X_val, y_val = X[len_train:] , y[len_train:]"
   ]
  },
  {
   "cell_type": "code",
   "execution_count": 5,
   "id": "a51d798b-2fe1-498a-a6ad-496c6ec1f83a",
   "metadata": {},
   "outputs": [
    {
     "name": "stdout",
     "output_type": "stream",
     "text": [
      "(54932, 114) (54932,) (13733, 114) (13733,)\n"
     ]
    }
   ],
   "source": [
    "print(X_train.shape,y_train.shape, X_val.shape, y_val.shape)"
   ]
  },
  {
   "cell_type": "code",
   "execution_count": 6,
   "id": "d98f68d9-d23f-4c34-b8ec-75473b1eb804",
   "metadata": {},
   "outputs": [],
   "source": [
    "def create_input_output(X, y, dates, len_input, len_target):\n",
    "    forecast_len = len_target - len_input\n",
    "    X_dataset = []\n",
    "    y_dataset = []\n",
    "    date_x_dataset = []\n",
    "    date_y_dataset = []\n",
    "    total_dataset = len(X) - max(len_input, len_target)\n",
    "    prec_at_forecasat_hour = []\n",
    "    for i in range(total_dataset):\n",
    "        x_forecast = X[i:i+len_target][-forecast_len:]\n",
    "        prec_at_forecasat_hour.append(x_forecast)\n",
    "        x_i = X[i:i+len_input]\n",
    "        y_i = y[i:i+len_target]\n",
    "        date_xi = dates[i:i+len_input]\n",
    "        date_yi = dates[i:i+len_target]\n",
    "        X_dataset.append(x_i); y_dataset.append(y_i)\n",
    "        date_x_dataset.append(date_xi); date_y_dataset.append(date_yi) \n",
    "    return np.array(X_dataset), np.array(y_dataset), np.array(date_x_dataset), np.array(date_y_dataset), np.array(prec_at_forecasat_hour)\n",
    "\n",
    "def filter_dataset_using_threshold_prec(X, y, prec_at_forecast_hour, th, p = None, mode = \"lt\"):\n",
    "    \"\"\"\n",
    "    Function to filter dataset using the threshold with percentil or value of precipitation\n",
    "    Args:\n",
    "        X: All input data\n",
    "        y: All target data\n",
    "    Returns:\n",
    "        X: filtered input data using threshold\n",
    "        y: filtered target data using threshold\n",
    "    \"\"\"\n",
    "    mean_prec = np.mean(prec_at_forecast_hour, axis = (1,2))\n",
    "    if p and mode == \"lt\":\n",
    "        th = np.percentile(mean_prec, p)\n",
    "        idx_chosen= np.where(mean_prec < th)\n",
    "    elif p and mode == \"gt\":\n",
    "        th = np.percentile(mean_prec, p)\n",
    "        idx_chosen= np.where(mean_prec > th)\n",
    "    else:\n",
    "        if mode == \"lt\":\n",
    "            idx_chosen = np.where(mean_prec < th)\n",
    "        elif mode == \"gt\":\n",
    "            idx_chosen = np.where(mean_prec> th)\n",
    "    return X[idx_chosen], y[idx_chosen]"
   ]
  },
  {
   "cell_type": "code",
   "execution_count": 7,
   "id": "c7db4488-053a-4325-810a-13e6bcb388ad",
   "metadata": {},
   "outputs": [
    {
     "data": {
      "text/plain": [
       "((54932, 114), (13733, 114), (54932,), (13733,))"
      ]
     },
     "execution_count": 7,
     "metadata": {},
     "output_type": "execute_result"
    }
   ],
   "source": [
    "X_train.shape, X_val.shape, y_train.shape, y_val.shape"
   ]
  },
  {
   "cell_type": "code",
   "execution_count": 8,
   "id": "86c3e12f-82f4-4961-ad80-25112fe011af",
   "metadata": {
    "scrolled": true
   },
   "outputs": [],
   "source": [
    "len_input = 6 * 24\n",
    "len_target = len_input + 24\n",
    "\n",
    "X_train_dataset, y_train_dataset, date_train_x_dataset, date_train_y_dataset, prec_at_forecast_hour_train = create_input_output(X=X_train, y=y_train, dates=date_train,\n",
    "                                                                             len_input=len_input, len_target=len_target)\n",
    "\n",
    "X_val_dataset, y_val_dataset, date_val_x_dataset, date_val_y_dataset, prec_at_forecast_hour_val = create_input_output(X=X_val, y=y_val, dates=date_val,\n",
    "                                                                             len_input=len_input, len_target=len_target)"
   ]
  },
  {
   "cell_type": "code",
   "execution_count": 9,
   "id": "a8d00fad-5fb1-48ea-9105-bf4208be9140",
   "metadata": {},
   "outputs": [
    {
     "data": {
      "text/plain": [
       "((54764, 144, 114),\n",
       " (13565, 144, 114),\n",
       " (54764, 168),\n",
       " (13565, 168),\n",
       " (54764, 24, 114),\n",
       " (13565, 24, 114))"
      ]
     },
     "execution_count": 9,
     "metadata": {},
     "output_type": "execute_result"
    }
   ],
   "source": [
    "X_train_dataset.shape, X_val_dataset.shape, y_train_dataset.shape, y_val_dataset.shape, prec_at_forecast_hour_train.shape, prec_at_forecast_hour_val.shape"
   ]
  },
  {
   "cell_type": "markdown",
   "id": "554c38d1-b9ae-40ea-999b-92ca81381cac",
   "metadata": {},
   "source": [
    "#### Visualize Data input Output"
   ]
  },
  {
   "cell_type": "code",
   "execution_count": 10,
   "id": "a6cdd372-c2d7-4126-9431-62e453d8dd7a",
   "metadata": {},
   "outputs": [],
   "source": [
    "filter_dataset = False\n",
    "if filter_dataset == True:\n",
    "    p = 25 #percentile \n",
    "    mode = \"lt\" # lt or gt. lt means less than, gt means greater than\n",
    "    th = 0 #threshold of a precipitation, if we have specific threshold then we just need to define it here (set value of P to None), otherwise use P\n",
    "    \n",
    "    X_train_dataset, y_train_dataset  = filter_dataset_using_threshold_prec(X = X_train_dataset, y= y_train_dataset,\n",
    "                                                          prec_at_forecast_hour = prec_at_forecast_hour_train,\n",
    "                                                          th = th, p = p, mode = mode)\n",
    "    \n",
    "    X_val_dataset, y_val_dataset  = filter_dataset_using_threshold_prec(X = X_val_dataset, y= y_val_dataset,\n",
    "                                                          prec_at_forecast_hour = prec_at_forecast_hour_val,\n",
    "                                                          th = th, p = p, mode = mode)\n",
    "    print(\"Filtering dataset DONE\")"
   ]
  },
  {
   "cell_type": "code",
   "execution_count": 11,
   "id": "8f5deee9-b5c0-4b03-81a0-dfaff30402a8",
   "metadata": {},
   "outputs": [
    {
     "name": "stdout",
     "output_type": "stream",
     "text": [
      "Dataset shape before flatten\n",
      "(54764, 144, 114) (13565, 144, 114) (54764, 168) (13565, 168)\n",
      "Dataset shape After flatten\n",
      "(54764, 16416) (13565, 16416) (54764, 168) (13565, 168)\n"
     ]
    }
   ],
   "source": [
    "#get the shape and what it means\n",
    "number_of_samples_train, length_of_seq_input, number_of_basins = X_train_dataset.shape\n",
    "number_of_samples_val = len(X_val_dataset)\n",
    "\n",
    "print(\"Dataset shape before flatten\")\n",
    "print(X_train_dataset.shape, X_val_dataset.shape, y_train_dataset.shape, y_val_dataset.shape)\n",
    "\n",
    "#flatten the subbasin\n",
    "X_train_dataset = X_train_dataset.reshape(number_of_samples_train, length_of_seq_input * number_of_basins)\n",
    "X_val_dataset = X_val_dataset.reshape(number_of_samples_val,length_of_seq_input * number_of_basins)\n",
    "print(\"Dataset shape After flatten\")\n",
    "print(X_train_dataset.shape, X_val_dataset.shape, y_train_dataset.shape, y_val_dataset.shape)"
   ]
  },
  {
   "cell_type": "markdown",
   "id": "a01d93c8-5855-4ced-b9f1-906a320546b3",
   "metadata": {},
   "source": [
    "#### Data Normalization"
   ]
  },
  {
   "cell_type": "code",
   "execution_count": 12,
   "id": "bcc62668-01ea-411b-89e7-cbb61c6730c9",
   "metadata": {},
   "outputs": [],
   "source": [
    "from sklearn.preprocessing import MinMaxScaler, StandardScaler\n",
    "def standard_scaler_normalization(data):\n",
    "    scaler = StandardScaler()\n",
    "    normalized_data = scaler.fit_transform(data)\n",
    "    return scaler, normalized_data\n",
    "\n",
    "def min_max_normalization(data):\n",
    "    # Min-Max Scaling\n",
    "    scaler = MinMaxScaler()\n",
    "    normalized_data = scaler.fit_transform(data)\n",
    "    return scaler, normalized_data\n",
    "\n",
    "def normalize_data(data, method):\n",
    "    if method == \"standard scaler\":\n",
    "        scaler, normalized_data = standard_scaler_normalization(data)\n",
    "    elif method == \"min max scaler\":\n",
    "        scaler, normalized_data = min_max_normalization(data)\n",
    "    return scaler, normalized_data\n",
    "\n",
    "list_of_normalize_method = [\"standard scaler\", \"min max scaler\"]\n",
    "idx_method = 0\n",
    "do_normalize = False\n",
    "if do_normalize:\n",
    "    method = list_of_normalize_method[idx_method]\n",
    "    scaler_train, X_train_dataset = normalize_data(data= X_train_dataset, method = method)\n",
    "    scaler_val, X_val_dataset = normalize_data(data = X_val_dataset, method = method)"
   ]
  },
  {
   "cell_type": "markdown",
   "id": "69e5eb4a-b760-4baf-a7ef-ec875b7397d6",
   "metadata": {},
   "source": [
    "### Data Visualization"
   ]
  },
  {
   "cell_type": "code",
   "execution_count": 13,
   "id": "2f9e4fc6-e175-4b66-9d35-7fbc2dbcfba9",
   "metadata": {},
   "outputs": [],
   "source": [
    "# def plot_ch_debit(data_debit, data_ch, date_debit, date_ch, title, path, save = False):\n",
    "    \n",
    "#     # Initialize the plot with a specified figure size\n",
    "#     fig, ax1 = plt.subplots(figsize=(8, 5))\n",
    "\n",
    "#     # Plotting y2 with ax1\n",
    "#     ax1.plot(date_debit, data_debit, 'b-', label = \"debit\")  # 'b-' sets the line color to blue\n",
    "#     ax1.set_xlabel('Date')\n",
    "#     ax1.set_ylabel('Debit (m3/hr)', color='b')  # Setting the label color to match the line color\n",
    "#     ax1.tick_params(axis='y', labelcolor='b')\n",
    "    \n",
    "#     # Rotate x-axis labels for better readability\n",
    "#     plt.xticks(rotation=25)  # Rotate labels by 45 degrees\n",
    "    \n",
    "#     # Creating a twin of the ax1 for y1 with separate y-axis\n",
    "#     ax2 = ax1.twinx()\n",
    "#     ax2.plot(date_ch, data_ch, 'r-', label = \"precip\")  # 'r-' sets the line color to red\n",
    "#     ax2.set_ylabel('precip (mm/hr)', color='r')  # Setting the label color to match the line color\n",
    "#     ax2.tick_params(axis='y', labelcolor='r')\n",
    "    \n",
    "#     # Show the plot\n",
    "#     plt.title(title)\n",
    "#     plt.tight_layout()  # Adjust the plot to ensure everything fits without overlapping\n",
    "#     if save:\n",
    "#         fig.savefig(f\"{path}/{title}.png\")\n",
    "#     plt.show()"
   ]
  },
  {
   "cell_type": "code",
   "execution_count": 14,
   "id": "937c35bc-b0c8-419f-97e5-73c7af79ef48",
   "metadata": {
    "scrolled": true
   },
   "outputs": [],
   "source": [
    "# path = \"image/Exercise 3\"\n",
    "# for i in range(5):\n",
    "#     n = np.random.randint(0,len(X_input))\n",
    "#     data_ch = X_input[n]\n",
    "#     data_debit = y_train_dataset[n]\n",
    "#     date_debit = date_train_dataset[n]\n",
    "#     title = f\"Sample {n} Input and Output Dataset\"\n",
    "#     plot_ch_debit(data_debit, data_ch, date_debit, date_debit, title, path, save = True)"
   ]
  },
  {
   "cell_type": "markdown",
   "id": "1d5148a3-eb18-496c-9f0a-5bd2e7a71193",
   "metadata": {},
   "source": [
    "### BUILD MODEL "
   ]
  },
  {
   "cell_type": "code",
   "execution_count": 15,
   "id": "ace14cd9-df12-424e-9d51-0b3fe59033c5",
   "metadata": {},
   "outputs": [],
   "source": [
    "# # Define a basic ResNet block\n",
    "# class BasicBlock(nn.Module):\n",
    "#     def __init__(self, in_features, out_features):\n",
    "#         super(BasicBlock, self).__init__()\n",
    "#         self.fc1 = nn.Linear(in_features, out_features)\n",
    "#         self.bn1 = nn.BatchNorm1d(out_features)\n",
    "#         self.relu = nn.ReLU(inplace=True)\n",
    "#         self.fc2 = nn.Linear(out_features, out_features)\n",
    "#         self.bn2 = nn.BatchNorm1d(out_features)\n",
    "        \n",
    "#         # Shortcut connection\n",
    "#         if in_features != out_features:\n",
    "#             self.shortcut = nn.Sequential(\n",
    "#                 nn.Linear(in_features, out_features),\n",
    "#                 nn.BatchNorm1d(out_features)\n",
    "#             )\n",
    "#         else:\n",
    "#             self.shortcut = nn.Identity()\n",
    "    \n",
    "#     def forward(self, x):\n",
    "#         identity = x\n",
    "#         out = self.fc1(x)\n",
    "#         out = self.bn1(out)\n",
    "#         out = self.relu(out)\n",
    "#         out = self.fc2(out)\n",
    "#         out = self.bn2(out)\n",
    "        \n",
    "#         identity = self.shortcut(identity)\n",
    "#         out += identity\n",
    "#         out = self.relu(out)\n",
    "#         return out\n",
    "\n",
    "# # Define the main model\n",
    "# class RegressionModelWithResNet(nn.Module):\n",
    "#     def __init__(self, input_size, output_size):\n",
    "#         super(RegressionModelWithResNet, self).__init__()\n",
    "#         # Initial fully connected layer\n",
    "#         self.fc_input = nn.Linear(input_size, 128)  # Reduce dimensionality before ResNet block\n",
    "        \n",
    "#         # ResNet block\n",
    "#         self.resnet_block = BasicBlock(128, 128)\n",
    "        \n",
    "#         # Output layer\n",
    "#         self.fc_output = nn.Linear(128, output_size)\n",
    "    \n",
    "#     def forward(self, x):\n",
    "#         x = self.fc_input(x)\n",
    "#         x = self.resnet_block(x)\n",
    "#         x = self.fc_output(x)\n",
    "#         return x\n",
    "\n",
    "# # create model regression \n",
    "# def create_model_fc_resnet(input_size, output_size):\n",
    "#     model = RegressionModelWithResNet(input_size=input_size, output_size=output_size)\n",
    "#     return model"
   ]
  },
  {
   "cell_type": "code",
   "execution_count": 16,
   "id": "1c02da49-cbec-4145-9397-3221c525fd2f",
   "metadata": {},
   "outputs": [],
   "source": [
    "# Define a basic ResNet block with dropout\n",
    "class BasicBlock(nn.Module):\n",
    "    def __init__(self, in_features, out_features, dropout_prob=0.5):\n",
    "        super(BasicBlock, self).__init__()\n",
    "        self.fc1 = nn.Linear(in_features, out_features)\n",
    "        self.bn1 = nn.BatchNorm1d(out_features)\n",
    "        self.relu = nn.ReLU(inplace=True)\n",
    "        self.fc2 = nn.Linear(out_features, out_features)\n",
    "        self.bn2 = nn.BatchNorm1d(out_features)\n",
    "        self.dropout = nn.Dropout(p=dropout_prob)  # Add dropout layer\n",
    "        \n",
    "        # Shortcut connection\n",
    "        if in_features != out_features:\n",
    "            self.shortcut = nn.Sequential(\n",
    "                nn.Linear(in_features, out_features),\n",
    "                nn.BatchNorm1d(out_features)\n",
    "            )\n",
    "        else:\n",
    "            self.shortcut = nn.Identity()\n",
    "    \n",
    "    def forward(self, x):\n",
    "        identity = x\n",
    "        out = self.fc1(x)\n",
    "        out = self.bn1(out)\n",
    "        out = self.relu(out)\n",
    "        out = self.dropout(out)  # Apply dropout after ReLU\n",
    "        \n",
    "        out = self.fc2(out)\n",
    "        out = self.bn2(out)\n",
    "        \n",
    "        identity = self.shortcut(identity)\n",
    "        out += identity\n",
    "        out = self.relu(out)\n",
    "        return out\n",
    "\n",
    "# Define the main model with dropout\n",
    "class RegressionModelWithResNet(nn.Module):\n",
    "    def __init__(self, input_size, output_size, dropout_prob=0.2):\n",
    "        super(RegressionModelWithResNet, self).__init__()\n",
    "        # Initial fully connected layer\n",
    "        self.fc_input = nn.Linear(input_size, 64)  # Reduce dimensionality before ResNet block\n",
    "        \n",
    "        # ResNet block with dropout\n",
    "        self.resnet_block = BasicBlock(64, 64, dropout_prob=dropout_prob)\n",
    "        \n",
    "        # Output layer\n",
    "        self.fc_output = nn.Linear(64, output_size)\n",
    "        self.dropout = nn.Dropout(p=dropout_prob)  # Add dropout before output if desired\n",
    "    \n",
    "    def forward(self, x):\n",
    "        x = self.fc_input(x)\n",
    "        x = self.resnet_block(x)\n",
    "        x = self.dropout(x)  # Apply dropout before output\n",
    "        x = self.fc_output(x)\n",
    "        return x\n",
    "\n",
    "# Create model with dropout\n",
    "def create_model_fc_resnet(input_size, output_size, dropout_prob=0.5):\n",
    "    model = RegressionModelWithResNet(input_size=input_size, output_size=output_size, dropout_prob=dropout_prob)\n",
    "    return model"
   ]
  },
  {
   "cell_type": "code",
   "execution_count": 17,
   "id": "e61b1920-fe21-4a4a-8e46-23bd66a9796d",
   "metadata": {},
   "outputs": [],
   "source": [
    "def train_model(model, criterion, optimizer, train_loader, device, num_epoch):\n",
    "    model.train()  # Set model to training mode\n",
    "    \n",
    "    for epoch in range(1):\n",
    "        running_loss = 0.0\n",
    "        \n",
    "        for inputs, labels in train_loader:\n",
    "            inputs, labels = inputs.to(device), labels.to(device)\n",
    "            optimizer.zero_grad()  # Zero the parameter gradients\n",
    "\n",
    "            # Forward + backward + optimize\n",
    "            outputs = model(inputs)\n",
    "            loss = criterion(outputs, labels)\n",
    "            loss.backward()\n",
    "            optimizer.step()\n",
    "\n",
    "            running_loss += loss.item() * inputs.size(0)\n",
    "\n",
    "        epoch_loss = running_loss / len(train_loader.dataset)\n",
    "        print(f'Epoch {num_epoch+1}, Loss: {epoch_loss:.4f}')\n",
    "    return epoch_loss\n",
    "\n",
    "def validate_model(model, criterion, val_loader, device):\n",
    "    model.eval()  # Set model to evaluate mode\n",
    "    total_loss = 0.0\n",
    "    \n",
    "    with torch.no_grad():\n",
    "        for inputs, labels in val_loader:\n",
    "            inputs, labels = inputs.to(device), labels.to(device)\n",
    "            outputs = model(inputs)\n",
    "            loss = criterion(outputs, labels)\n",
    "            total_loss += loss.item() * inputs.size(0)\n",
    "    \n",
    "    average_loss = total_loss / len(val_loader.dataset)\n",
    "    print(f'Validation Loss: {average_loss:.4f}')\n",
    "    return average_loss,outputs"
   ]
  },
  {
   "cell_type": "code",
   "execution_count": 18,
   "id": "402877b5-2e9c-40a3-a7d9-760c396276c4",
   "metadata": {},
   "outputs": [],
   "source": [
    "class CustomDataset(Dataset):\n",
    "    def __init__(self, X, y):\n",
    "        self.X = X\n",
    "        self.y = y\n",
    "\n",
    "    def __len__(self):\n",
    "        return len(self.X)\n",
    "\n",
    "    def __getitem__(self, idx):\n",
    "        return self.X[idx], self.y[idx]\n",
    "\n",
    "def create_dataloader(X, y, batch_size, shuffle=False):\n",
    "    dataset = CustomDataset(X, y)\n",
    "    dataloader = DataLoader(dataset, batch_size=batch_size, shuffle=shuffle)\n",
    "    return dataloader"
   ]
  },
  {
   "cell_type": "code",
   "execution_count": 19,
   "id": "57173bd0-48c1-4ca7-819b-2fbb54685526",
   "metadata": {},
   "outputs": [],
   "source": [
    "#preprocess data input\n",
    "X_train_input = torch.tensor(X_train_dataset, dtype = torch.float32)\n",
    "X_val_input = torch.tensor(X_val_dataset, dtype = torch.float32)\n",
    "\n",
    "y_train_dataset = torch.tensor(y_train_dataset, dtype = torch.float32)\n",
    "y_val_dataset = torch.tensor(y_val_dataset, dtype = torch.float32)"
   ]
  },
  {
   "cell_type": "code",
   "execution_count": 20,
   "id": "9e3b3e22-730e-4111-9a8d-7e63452a490a",
   "metadata": {},
   "outputs": [
    {
     "data": {
      "text/plain": [
       "(torch.Size([54764, 16416]),\n",
       " torch.Size([13565, 16416]),\n",
       " torch.Size([54764, 168]),\n",
       " torch.Size([13565, 168]))"
      ]
     },
     "execution_count": 20,
     "metadata": {},
     "output_type": "execute_result"
    }
   ],
   "source": [
    "X_train_input.shape, X_val_input.shape, y_train_dataset.shape, y_val_dataset.shape"
   ]
  },
  {
   "cell_type": "code",
   "execution_count": 21,
   "id": "d683fd45-6055-489c-9e47-e98e72b7a1d7",
   "metadata": {
    "scrolled": true
   },
   "outputs": [
    {
     "data": {
      "text/plain": [
       "RegressionModelWithResNet(\n",
       "  (fc_input): Linear(in_features=16416, out_features=64, bias=True)\n",
       "  (resnet_block): BasicBlock(\n",
       "    (fc1): Linear(in_features=64, out_features=64, bias=True)\n",
       "    (bn1): BatchNorm1d(64, eps=1e-05, momentum=0.1, affine=True, track_running_stats=True)\n",
       "    (relu): ReLU(inplace=True)\n",
       "    (fc2): Linear(in_features=64, out_features=64, bias=True)\n",
       "    (bn2): BatchNorm1d(64, eps=1e-05, momentum=0.1, affine=True, track_running_stats=True)\n",
       "    (dropout): Dropout(p=0.5, inplace=False)\n",
       "    (shortcut): Identity()\n",
       "  )\n",
       "  (fc_output): Linear(in_features=64, out_features=168, bias=True)\n",
       "  (dropout): Dropout(p=0.5, inplace=False)\n",
       ")"
      ]
     },
     "execution_count": 21,
     "metadata": {},
     "output_type": "execute_result"
    }
   ],
   "source": [
    "# Data loaders\n",
    "batch_size = 32\n",
    "\n",
    "train_loader = create_dataloader(X=X_train_input, y=y_train_dataset, batch_size=batch_size, shuffle=True)\n",
    "val_loader = create_dataloader(X=X_val_input, y=y_val_dataset, batch_size=batch_size, shuffle=False)\n",
    "\n",
    "# Initialize the model, criterion, and optimizer\n",
    "input_size = X_train_input.shape[1]\n",
    "output_size = y_train_dataset.shape[1]\n",
    "\n",
    "#model = FullyConnectedModel(input_size, output_size)\n",
    "model = create_model_fc_resnet(input_size=input_size, output_size=output_size)\n",
    "model.to(device)"
   ]
  },
  {
   "cell_type": "code",
   "execution_count": 22,
   "id": "d3feeffc-59a0-40c3-ba08-a357aa5dc773",
   "metadata": {
    "scrolled": true
   },
   "outputs": [
    {
     "name": "stdout",
     "output_type": "stream",
     "text": [
      "Epoch 1, Loss: 6572.8968\n",
      "Validation Loss: 4651.7778\n",
      "Epoch 2, Loss: 5679.8697\n",
      "Validation Loss: 4366.9117\n",
      "Epoch 3, Loss: 5400.5277\n",
      "Validation Loss: 4295.5513\n",
      "Epoch 4, Loss: 5216.6142\n",
      "Validation Loss: 4280.2569\n",
      "Epoch 5, Loss: 5090.7881\n",
      "Validation Loss: 4275.0371\n",
      "Epoch 6, Loss: 4949.5325\n",
      "Validation Loss: 4332.7420\n",
      "Epoch 7, Loss: 4897.3681\n",
      "Validation Loss: 4311.8578\n",
      "Epoch 8, Loss: 4788.4965\n",
      "Validation Loss: 4319.6997\n",
      "Epoch 9, Loss: 4718.0294\n",
      "Validation Loss: 4291.2249\n",
      "Epoch 10, Loss: 4643.5827\n",
      "Validation Loss: 4350.2752\n",
      "Epoch 11, Loss: 4593.4899\n",
      "Validation Loss: 4495.0418\n",
      "Epoch 12, Loss: 4524.7498\n",
      "Validation Loss: 4343.5447\n",
      "Epoch 13, Loss: 4462.5176\n",
      "Validation Loss: 4479.9757\n",
      "Epoch 14, Loss: 4453.9269\n",
      "Validation Loss: 4413.2158\n",
      "Epoch 15, Loss: 4395.1093\n",
      "Validation Loss: 4514.6896\n",
      "Epoch 16, Loss: 4345.0243\n",
      "Validation Loss: 4582.2959\n",
      "Epoch 17, Loss: 4308.9526\n",
      "Validation Loss: 4511.7358\n",
      "Epoch 18, Loss: 4294.3022\n",
      "Validation Loss: 4496.5967\n",
      "Epoch 19, Loss: 4244.7567\n",
      "Validation Loss: 4499.3320\n",
      "Epoch 20, Loss: 4226.9651\n",
      "Validation Loss: 4563.1393\n",
      "Epoch 21, Loss: 4163.9152\n",
      "Validation Loss: 4536.2953\n",
      "Epoch 22, Loss: 4174.6024\n",
      "Validation Loss: 4459.4961\n",
      "Epoch 23, Loss: 4123.7888\n",
      "Validation Loss: 4577.7752\n",
      "Epoch 24, Loss: 4083.8858\n",
      "Validation Loss: 4693.6419\n",
      "Epoch 25, Loss: 4067.5864\n",
      "Validation Loss: 4469.0981\n",
      "Epoch 26, Loss: 4020.6688\n",
      "Validation Loss: 4715.3987\n",
      "Epoch 27, Loss: 4004.3831\n",
      "Validation Loss: 4591.2671\n",
      "Epoch 28, Loss: 4004.7599\n",
      "Validation Loss: 4593.8563\n",
      "Epoch 29, Loss: 3977.9819\n",
      "Validation Loss: 4607.0628\n",
      "Epoch 30, Loss: 4004.0362\n",
      "Validation Loss: 4642.1135\n",
      "Epoch 31, Loss: 3970.0665\n",
      "Validation Loss: 4588.8622\n",
      "Epoch 32, Loss: 3955.0725\n",
      "Validation Loss: 4608.9727\n",
      "Epoch 33, Loss: 3856.3756\n",
      "Validation Loss: 4670.8607\n",
      "Epoch 34, Loss: 3906.1224\n",
      "Validation Loss: 4767.5036\n",
      "Epoch 35, Loss: 3883.0981\n",
      "Validation Loss: 4605.3999\n",
      "Epoch 36, Loss: 3849.1324\n",
      "Validation Loss: 4647.4345\n",
      "Epoch 37, Loss: 3818.2958\n",
      "Validation Loss: 4748.5115\n",
      "Epoch 38, Loss: 3828.5920\n",
      "Validation Loss: 4788.6329\n",
      "Epoch 39, Loss: 3780.4597\n",
      "Validation Loss: 4814.6183\n",
      "Epoch 40, Loss: 3750.4816\n",
      "Validation Loss: 4765.4427\n",
      "Epoch 41, Loss: 3764.1230\n",
      "Validation Loss: 4760.2275\n",
      "Epoch 42, Loss: 3753.5115\n",
      "Validation Loss: 4815.4451\n",
      "Epoch 43, Loss: 3723.8272\n",
      "Validation Loss: 4883.0460\n",
      "Epoch 44, Loss: 3688.2420\n",
      "Validation Loss: 4815.5213\n",
      "Epoch 45, Loss: 3709.4862\n",
      "Validation Loss: 4825.6750\n",
      "Epoch 46, Loss: 3680.6574\n",
      "Validation Loss: 4859.3238\n",
      "Epoch 47, Loss: 3676.7412\n",
      "Validation Loss: 4834.3858\n",
      "Epoch 48, Loss: 3668.7276\n",
      "Validation Loss: 4866.2774\n",
      "Epoch 49, Loss: 3656.1424\n",
      "Validation Loss: 4810.5909\n",
      "Epoch 50, Loss: 3667.9224\n",
      "Validation Loss: 4970.1589\n",
      "CPU times: total: 2min 54s\n",
      "Wall time: 7min 44s\n"
     ]
    }
   ],
   "source": [
    "%%time\n",
    "criterion = nn.MSELoss()  # Assuming a regression task\n",
    "# Define RMSProp optimizer\n",
    "#optimizer = optim.RMSprop(model.parameters(), lr=0.0001)\n",
    "\n",
    "optimizer = optim.Adam(model.parameters(), lr=0.001)\n",
    "# Train the model\n",
    "num_epochs = 50\n",
    "curr_loss = 9999999999\n",
    "train_loss, val_loss = [],[]\n",
    "for epoch in range(num_epochs):\n",
    "    epoch_loss = train_model(model, criterion, optimizer, train_loader,device, num_epoch=epoch)\n",
    "    avg_loss, outputs = validate_model(model, criterion, val_loader, device)\n",
    "    train_loss.append(epoch_loss)\n",
    "    val_loss.append(avg_loss)\n",
    "    if avg_loss < curr_loss:\n",
    "        torch.save(model.state_dict(), f'Ml 1 best at epoch {epoch}.pth')\n",
    "        curr_loss = avg_loss"
   ]
  },
  {
   "cell_type": "code",
   "execution_count": 36,
   "id": "e072347e-8390-43dc-bd80-32dfc625662e",
   "metadata": {},
   "outputs": [],
   "source": [
    "# # # Save only the model's state_dict (recommended approach)\n",
    "# torch.save(model.state_dict(), 'Ml 1 with filtering prec.pth')"
   ]
  },
  {
   "cell_type": "code",
   "execution_count": 24,
   "id": "37bf0ef9-b190-4dc8-9d06-5594114a88b0",
   "metadata": {},
   "outputs": [
    {
     "data": {
      "image/png": "[encoded data removed]",
      "text/plain": [
       "<Figure size 640x480 with 1 Axes>"
      ]
     },
     "metadata": {},
     "output_type": "display_data"
    }
   ],
   "source": [
    "plt.plot(train_loss, label = \"Training Loss\")\n",
    "plt.plot(val_loss, label = \"Validation Loss\")\n",
    "plt.xlabel(\"Number of Epoch\")\n",
    "plt.ylabel(\"MSE\")\n",
    "plt.legend()\n",
    "plt.savefig(\"image/Final/Train and Validation of MSE error.png\")\n",
    "plt.show()"
   ]
  },
  {
   "cell_type": "code",
   "execution_count": 29,
   "id": "e9dc3734-8d75-4faf-a4e8-19ea5a2300b6",
   "metadata": {},
   "outputs": [
    {
     "data": {
      "text/plain": [
       "tensor([[0., 0., 0.,  ..., 0., 0., 0.],\n",
       "        [0., 0., 0.,  ..., 0., 0., 0.],\n",
       "        [0., 0., 0.,  ..., 0., 0., 0.],\n",
       "        ...,\n",
       "        [0., 0., 0.,  ..., 0., 0., 0.],\n",
       "        [0., 0., 0.,  ..., 0., 0., 0.],\n",
       "        [0., 0., 0.,  ..., 0., 0., 0.]])"
      ]
     },
     "execution_count": 29,
     "metadata": {},
     "output_type": "execute_result"
    }
   ],
   "source": [
    "X_val_input"
   ]
  },
  {
   "cell_type": "code",
   "execution_count": 30,
   "id": "8867768a-f055-49c4-b486-210244c56825",
   "metadata": {},
   "outputs": [],
   "source": [
    "with torch.no_grad():\n",
    "    outputs = model(X_val_input.to(device))\n",
    "    outputs = outputs.cpu().numpy()"
   ]
  },
  {
   "cell_type": "code",
   "execution_count": 35,
   "id": "745de3d2-11c3-48e0-b7c4-eab515bc4893",
   "metadata": {},
   "outputs": [
    {
     "data": {
      "text/plain": [
       "9336"
      ]
     },
     "execution_count": 35,
     "metadata": {},
     "output_type": "execute_result"
    }
   ],
   "source": [
    "n"
   ]
  },
  {
   "cell_type": "code",
   "execution_count": 63,
   "id": "997883ed-dc15-4d83-91ec-e972843569f5",
   "metadata": {},
   "outputs": [
    {
     "data": {
      "image/png": "[encoded data removed]",
      "text/plain": [
       "<Figure size 700x400 with 2 Axes>"
      ]
     },
     "metadata": {},
     "output_type": "display_data"
    }
   ],
   "source": [
    "import matplotlib.pyplot as plt\n",
    "import numpy as np\n",
    "import pandas as pd\n",
    "from mpl_toolkits.axes_grid1.inset_locator import inset_axes\n",
    "\n",
    "# Generate some example time series data\n",
    "n = np.random.randint(0,len(X_val_input))\n",
    "n = 841\n",
    "y_pred = outputs[n]\n",
    "y_real = y_val_dataset[n]\n",
    "\n",
    "dates = date_val_y_dataset[n]\n",
    "\n",
    "# Plot the entire time series data\n",
    "fig, ax = plt.subplots(figsize=(7, 4))\n",
    "ax.plot(dates, y_real, label='Actual', color='blue')\n",
    "ax.plot(dates, y_pred, label='Predicted', color='green')\n",
    "\n",
    "# Rotate the x-ticks\n",
    "plt.xticks(rotation=25)\n",
    "\n",
    "# Highlight the vertical area for the last 24 data points\n",
    "ax.axvspan(dates[-24], dates[-1], color='lightgray', alpha=0.25)\n",
    "\n",
    "# Create an inset plot (mini-plot) outside the original axes box\n",
    "# Position the inset using `bbox_to_anchor` and `loc`\n",
    "ax_inset = inset_axes(ax, width=3, height=3,  # Use absolute units like inches\n",
    "                      bbox_to_anchor=(1.05, 0.5, 0.2, 0.2),  # 4-tuple to define the position\n",
    "                      bbox_transform=ax.transAxes, loc='center left', borderpad=0)\n",
    "\n",
    "ax_inset.plot(dates[-24:], y_real[-24:], color='blue', linestyle='-', markersize=4)\n",
    "ax_inset.plot(dates[-24:], y_pred[-24:], color='green', linestyle='-', markersize=4)\n",
    "ax_inset.set_title('Highlighted Area', fontsize=10)\n",
    "ax_inset.set_xticks([])  # Optionally remove x-ticks\n",
    "ax_inset.set_yticks([])  # Optionally remove y-ticks\n",
    "\n",
    "# Add labels and title to the main plot\n",
    "ax.set_xlabel('Date')\n",
    "ax.set_ylabel('Value')\n",
    "ax.set_title(f\"Sample Validation data {n}\")\n",
    "\n",
    "# Move the legend to the top-left corner for both the main plot and the inset\n",
    "ax.legend(loc='upper left')\n",
    "#ax_inset.legend(loc='upper left')\n",
    "\n",
    "plt.savefig(f\"image/Final/Sample {n} inference FCResNet all data.png\",bbox_inches='tight')\n",
    "# Show the plot\n",
    "plt.show()"
   ]
  },
  {
   "cell_type": "code",
   "execution_count": 58,
   "id": "2497a956-12ec-4e4d-959b-0e299079ab3d",
   "metadata": {},
   "outputs": [],
   "source": [
    "def calc_rmse_at_each_samples(actual, predicted):\n",
    "    \"\"\"\n",
    "    Function to calculate the rmse of the validation data\n",
    "    Args:\n",
    "        actual: array like, ground truth data\n",
    "        predicted: array like, predicted data from the model\n",
    "    returns:\n",
    "        all_rmse: all the rmse value from each samples of cases\n",
    "    \"\"\"\n",
    "    all_rmse = []\n",
    "    for i in range(len(actual)):\n",
    "        all_rmse.append(np.sqrt(np.mean((actual[i] - predicted[i]) ** 2)))\n",
    "    return np.array(all_rmse)"
   ]
  },
  {
   "cell_type": "code",
   "execution_count": 59,
   "id": "e207ac73-bdae-4374-b385-94c958bb1d1c",
   "metadata": {},
   "outputs": [
    {
     "name": "stdout",
     "output_type": "stream",
     "text": [
      "RMSE all: 70.49935150146484, RMSE Estimated: 71.11137390136719, RMSE forecasted: 66.70951843261719\n"
     ]
    }
   ],
   "source": [
    "import numpy as np\n",
    "y_val_dataset = y_val_dataset.numpy()\n",
    "\n",
    "rmse_each_samples_all = calc_rmse_at_each_samples(y_val_dataset, outputs)\n",
    "\n",
    "rmse_each_samples_forecasted =  calc_rmse_at_each_samples(y_val_dataset[:,-24:], outputs[:,-24:])\n",
    "                                              \n",
    "# Calculate RMSE all data\n",
    "rmse_all = np.sqrt(np.mean((y_val_dataset- outputs) ** 2))\n",
    "\n",
    "# Calculate forecast RMSE\n",
    "rmse_forecast = np.sqrt(np.mean((y_val_dataset[:,-24:] - outputs[:,-24:]) ** 2))\n",
    "\n",
    "#calculate estimated RMSE\n",
    "rmse_estimated = np.sqrt(np.mean((y_val_dataset[:,:-24] - outputs[:,:-24]) ** 2))\n",
    "\n",
    "print(f\"RMSE all: {rmse_all}, RMSE Estimated: {rmse_estimated}, RMSE forecasted: {rmse_forecast}\")"
   ]
  },
  {
   "cell_type": "code",
   "execution_count": 60,
   "id": "6ed1d218-3921-49d5-889f-8bb86a65eb7f",
   "metadata": {},
   "outputs": [],
   "source": [
    "def calculate_corr(predicted, real):\n",
    "    \"\"\"\n",
    "    Function to calculate correlation of all cases in data validation\n",
    "    Args:\n",
    "        predicted: predicted value of debit\n",
    "        real: ground truth value of debit\n",
    "    Returns:\n",
    "        all_corr: list of correlation between the predicted and real in all cases\n",
    "\n",
    "    \"\"\"\n",
    "    t,x = predicted.shape\n",
    "    all_corr = []\n",
    "    for i in range(t):  \n",
    "        # Calculate Pearson correlation coefficient\n",
    "        correlation = np.corrcoef(predicted[i], real[i])[0, 1]\n",
    "        all_corr.append(correlation)\n",
    "    return all_corr"
   ]
  },
  {
   "cell_type": "code",
   "execution_count": 61,
   "id": "cc47acb5-f5e8-46b4-8ba0-515c90944d7d",
   "metadata": {},
   "outputs": [],
   "source": [
    "corr_all = calculate_corr(y_val_dataset, outputs)\n",
    "corr_forcasted = calculate_corr(y_val_dataset[:,-24:],outputs[:,-24:])\n",
    "corr_estimated = calculate_corr(y_val_dataset[:,:-24],outputs[:,:-24])"
   ]
  },
  {
   "cell_type": "code",
   "execution_count": 62,
   "id": "faa0af91-d98f-44ae-aa20-64f0d17bda0d",
   "metadata": {},
   "outputs": [
    {
     "name": "stdout",
     "output_type": "stream",
     "text": [
      "Corr all: 0.625567747614508, Corr Estimated: 0.6537772450833117, Corr forecasted: 0.24051965101677142\n"
     ]
    }
   ],
   "source": [
    "print(f\"Corr all: {np.mean(corr_all)}, Corr Estimated: {np.mean(corr_estimated)}, Corr forecasted: {np.mean(corr_forcasted)}\")"
   ]
  },
  {
   "cell_type": "markdown",
   "id": "4b4cd1be-8649-490e-a053-3790362816a8",
   "metadata": {
    "jp-MarkdownHeadingCollapsed": true
   },
   "source": [
    "#### Visualisasi Error Validasi dan Analisis Error"
   ]
  },
  {
   "cell_type": "code",
   "execution_count": 63,
   "id": "920dc53e-69cd-4996-a704-fc97fdce4261",
   "metadata": {},
   "outputs": [],
   "source": [
    "p5 = np.percentile(rmse_each_samples_forecasted, 5)\n",
    "p95 = np.percentile(rmse_each_samples_forecasted, 95)\n",
    "\n",
    "idx_lt_p5 = np.where(rmse_each_samples_forecasted < p5)\n",
    "idx_gt_p95  = np.where(rmse_each_samples_forecasted > p95)"
   ]
  },
  {
   "cell_type": "code",
   "execution_count": 101,
   "id": "831fdca2-eb8c-42ae-8923-f6bec8815ebf",
   "metadata": {},
   "outputs": [
    {
     "data": {
      "image/png": "[encoded data removed]",
      "text/plain": [
       "<Figure size 640x480 with 1 Axes>"
      ]
     },
     "metadata": {},
     "output_type": "display_data"
    }
   ],
   "source": [
    "import seaborn as sns\n",
    "number_of_cases = len(rmse_each_samples_forecasted)\n",
    "sns.kdeplot(rmse_each_samples_forecasted, fill=True)  # shade=True to fill the area under the curve\n",
    "# Add vertical lines at the 10th and 90th percentiles\n",
    "plt.axvline(p5, color='red', linestyle='--', label='5th Percentile')\n",
    "plt.axvline(p95, color='blue', linestyle='--', label='95th Percentile')\n",
    "plt.title(f'Distribution of RMSE debit forecasted {number_of_cases}')\n",
    "plt.xlabel('Value')\n",
    "plt.ylabel('Density')\n",
    "plt.legend()\n",
    "plt.savefig(\"Distribution of RMSE debit forecasted.png\", bbox_inches = \"tight\")\n",
    "plt.show()"
   ]
  },
  {
   "cell_type": "code",
   "execution_count": 84,
   "id": "814e8222-5cca-4e2f-a42b-d684f478b70c",
   "metadata": {},
   "outputs": [],
   "source": [
    "prec_at_forecasted_idx_lt_p5 = prec_at_forecast_hour_val[idx_lt_p5]\n",
    "prec_at_forecasted_idx_gt_p95 = prec_at_forecast_hour_val[idx_gt_p95]\n",
    "\n",
    "mean_prec_at_forecasted_idx_lt_p5 = np.mean(prec_at_forecasted_idx_lt_p5, axis = (1,2))\n",
    "sum_prec_at_forecasted_idx_lt_p5 = np.sum(prec_at_forecasted_idx_lt_p5, axis = (1,2))\n",
    "\n",
    "mean_prec_at_forecasted_idx_gt_p95 = np.mean(prec_at_forecasted_idx_gt_p95, axis = (1,2))\n",
    "sum_prec_at_forecasted_idx_gt_p95 = np.sum(prec_at_forecasted_idx_gt_p95, axis = (1,2))"
   ]
  },
  {
   "cell_type": "code",
   "execution_count": 99,
   "id": "2ea5a3ab-b31f-493a-8730-cf5ca2f63f5e",
   "metadata": {},
   "outputs": [
    {
     "data": {
      "image/png": "[encoded data removed]",
      "text/plain": [
       "<Figure size 640x480 with 1 Axes>"
      ]
     },
     "metadata": {},
     "output_type": "display_data"
    }
   ],
   "source": [
    "import seaborn as sns\n",
    "number_of_cases = len(mean_prec_at_forecasted_idx_lt_p5)\n",
    "n_p5 = len(sum_prec_at_forecasted_idx_lt_p5)\n",
    "n_p95 = len(sum_prec_at_forecasted_idx_gt_p95)\n",
    "\n",
    "sns.kdeplot(sum_prec_at_forecasted_idx_lt_p5, fill=True, label = f\"RMSE debit p5\")  # shade=True to fill the area under the curve\n",
    "sns.kdeplot(sum_prec_at_forecasted_idx_gt_p95, fill=True, label = f\"RMSE debit p95\")\n",
    "# Add vertical lines at the 10th and 90th percentiles\n",
    "plt.title(f'Distribution of Precipitation at forecasted hour')\n",
    "plt.xlabel('Value (Volume)')\n",
    "plt.ylabel('Density')\n",
    "plt.legend()\n",
    "plt.savefig(\"Distribution of Precipitation at forecasted hour.png\", bbox_inches = \"tight\")\n",
    "plt.show()"
   ]
  },
  {
   "cell_type": "markdown",
   "id": "fdda0de3-3613-46fe-a2d5-3e06171f5eba",
   "metadata": {},
   "source": [
    "### Tambahan Model untuk Forecast (Seq2Seq)"
   ]
  },
  {
   "cell_type": "code",
   "execution_count": null,
   "id": "dda23c68-2983-4a17-a61b-a1aa38727c58",
   "metadata": {},
   "outputs": [],
   "source": [
    "def create_dataset_lstm_from_predicted_fc(data_predicted, len_input_seq):\n",
    "    assert len(data_predicted.shape) == 2, \"Input must have 2 dimension\"\n",
    "    n,t = data_predicted.shape\n",
    "    output_dataset = set()\n",
    "    l = t - len_input_seq - 1# l is the number of data we can create from 168 data sequence\n",
    "    for i in range(n):\n",
    "        for j in range(l-1):\n",
    "            xij = data_predicted[i][j:len_input_seq+j]\n",
    "            yij = data_predicted[i][len_input_seq+j+1]\n",
    "            data_ij = (tuple(xij), yij)\n",
    "            if data_ij not in output_dataset:\n",
    "                output_dataset.add(data_ij)\n",
    "    return output_dataset"
   ]
  },
  {
   "cell_type": "code",
   "execution_count": null,
   "id": "b01fa7af-1c94-4737-a9a0-713f8a2eb085",
   "metadata": {},
   "outputs": [],
   "source": [
    "output_dataset = create_dataset_lstm_from_predicted_fc(data_predicted=outputs_train, len_input_seq=len_input)\n",
    "trains_y_dataset = create_dataset_lstm_from_predicted_fc(data_predicted=y_train_dataset, len_input_seq=len_input)"
   ]
  },
  {
   "cell_type": "code",
   "execution_count": 8,
   "id": "9be77caf-df6b-4b67-8ad2-f8dae397f05b",
   "metadata": {},
   "outputs": [
    {
     "ename": "NameError",
     "evalue": "name 'X_train_input' is not defined",
     "output_type": "error",
     "traceback": [
      "\u001b[1;31m---------------------------------------------------------------------------\u001b[0m",
      "\u001b[1;31mNameError\u001b[0m                                 Traceback (most recent call last)",
      "Cell \u001b[1;32mIn[8], line 1\u001b[0m\n\u001b[1;32m----> 1\u001b[0m X_train_input\u001b[38;5;241m.\u001b[39mshape, X_val_input\u001b[38;5;241m.\u001b[39mshape, y_train_dataset\u001b[38;5;241m.\u001b[39mshape, y_val_dataset\u001b[38;5;241m.\u001b[39mshape\n",
      "\u001b[1;31mNameError\u001b[0m: name 'X_train_input' is not defined"
     ]
    }
   ],
   "source": [
    "X_train_input.shape, X_val_input.shape, y_train_dataset.shape, y_val_dataset.shape"
   ]
  },
  {
   "cell_type": "code",
   "execution_count": 30,
   "id": "9cf08f40-db97-46f8-adf7-5a921c649360",
   "metadata": {},
   "outputs": [],
   "source": [
    "def create_lstm_dataset(data, input_sequence_len, target_sequence_len):\n",
    "    \"\"\"\n",
    "    Prepare time series data for LSTM model with variable input and target sequence lengths.\n",
    "\n",
    "    Parameters:\n",
    "    data (np.ndarray or list): The time series data.\n",
    "    input_sequence_len (int): The number of time steps in each input sequence.\n",
    "    target_sequence_len (int): The number of time steps in each target sequence.\n",
    "\n",
    "    Returns:\n",
    "    np.ndarray: Array containing the input sequences.\n",
    "    np.ndarray: Array containing the target sequences.\n",
    "    \"\"\"\n",
    "    data = np.array(data)\n",
    "    X, y = [], []\n",
    "    for i in range(len(data) - input_sequence_len - target_sequence_len + 1):\n",
    "        X.append(data[i:i + input_sequence_len])\n",
    "        y.append(data[i + input_sequence_len:i + input_sequence_len + target_sequence_len])\n",
    "\n",
    "    X,y = np.array(X), np.array(y)\n",
    "    # Convert NumPy array to PyTorch tensor\n",
    "    X = torch.tensor(X, dtype=torch.float32)\n",
    "    X = X.unsqueeze(-1)  # Adds a dimension at the last position\n",
    "    \n",
    "    # Convert NumPy array to PyTorch tensor\n",
    "    y = torch.tensor(y, dtype=torch.float32)\n",
    "    y = y.unsqueeze(-1)  # Adds a dimension at the last position\n",
    "\n",
    "    return X,y"
   ]
  },
  {
   "cell_type": "code",
   "execution_count": 31,
   "id": "49c8907d-91b9-4a30-974c-5b71c102d181",
   "metadata": {},
   "outputs": [],
   "source": [
    "# Define the Encoder LSTM\n",
    "class EncoderLSTM(nn.Module):\n",
    "    def __init__(self, input_size, hidden_size, num_layers=1, dropout=0.0):\n",
    "        super(EncoderLSTM, self).__init__()\n",
    "        self.lstm = nn.LSTM(input_size, hidden_size, num_layers, batch_first=True, dropout=dropout if num_layers > 1 else 0.0)\n",
    "        self.hidden_size = hidden_size\n",
    "        self.num_layers = num_layers\n",
    "\n",
    "    def forward(self, input_seq):\n",
    "        batch_size = input_seq.size(0)\n",
    "        h0 = torch.zeros(self.num_layers, batch_size, self.hidden_size).to(input_seq.device)\n",
    "        c0 = torch.zeros(self.num_layers, batch_size, self.hidden_size).to(input_seq.device)\n",
    "        _, (hidden, cell) = self.lstm(input_seq, (h0, c0))\n",
    "        return hidden, cell\n",
    "\n",
    "# Define the Decoder LSTM\n",
    "class DecoderLSTM(nn.Module):\n",
    "    def __init__(self, output_size, hidden_size, num_layers=1, dropout=0.0):\n",
    "        super(DecoderLSTM, self).__init__()\n",
    "        self.lstm = nn.LSTM(output_size, hidden_size, num_layers, batch_first=True, dropout=dropout if num_layers > 1 else 0.0)\n",
    "        self.fc = nn.Linear(hidden_size, output_size)\n",
    "        self.hidden_size = hidden_size\n",
    "        self.num_layers = num_layers\n",
    "\n",
    "    def forward(self, decoder_input, hidden, cell, target_seq_len):\n",
    "        outputs = []\n",
    "        for _ in range(target_seq_len):\n",
    "            output, (hidden, cell) = self.lstm(decoder_input, (hidden, cell))\n",
    "            output = self.fc(output)\n",
    "            outputs.append(output)\n",
    "            decoder_input = output\n",
    "        outputs = torch.cat(outputs, dim=1)\n",
    "        return outputs\n",
    "\n",
    "# Define the Seq2Seq model\n",
    "class Seq2SeqLSTM(nn.Module):\n",
    "    def __init__(self, input_size, hidden_size, output_size, num_layers=1, dropout=0.0):\n",
    "        super(Seq2SeqLSTM, self).__init__()\n",
    "        self.encoder = EncoderLSTM(input_size, hidden_size, num_layers, dropout)\n",
    "        self.decoder = DecoderLSTM(output_size, hidden_size, num_layers, dropout)\n",
    "\n",
    "    def forward(self, input_seq, target_seq_len):\n",
    "        hidden, cell = self.encoder(input_seq)\n",
    "        batch_size = input_seq.size(0)\n",
    "        decoder_input = torch.zeros(batch_size, 1, 1).to(input_seq.device)\n",
    "        outputs = self.decoder(decoder_input, hidden, cell, target_seq_len)\n",
    "        return outputs\n",
    "\n",
    "# Training function\n",
    "def train(model, train_loader, val_loader, criterion, optimizer, num_epochs, target_seq_len, device):\n",
    "    model.train()\n",
    "    train_losses, val_losses = [],[] \n",
    "    for epoch in range(num_epochs):\n",
    "        epoch_loss = 0\n",
    "        for input_seq, target_seq in train_loader:\n",
    "            input_seq, target_seq = input_seq.to(device), target_seq.to(device)\n",
    "            optimizer.zero_grad()\n",
    "            output_seq = model(input_seq, target_seq_len)\n",
    "            loss = criterion(output_seq, target_seq)\n",
    "            epoch_loss += loss.item()\n",
    "            loss.backward()\n",
    "            optimizer.step()\n",
    "        avg_loss = epoch_loss / len(train_loader)\n",
    "        _,_,val_loss = evaluate(model, val_loader, criterion, target_seq_len, device)\n",
    "        print(f'Epoch [{epoch+1}/{num_epochs}], Train Loss: {avg_loss:.4f}, Validation Loss: {val_loss:.4f}')\n",
    "        train_losses.append(avg_loss)\n",
    "        val_losses.append(val_loss)\n",
    "    return train_losses, val_losses\n",
    "\n",
    "# Evaluation function\n",
    "def evaluate(model, test_loader, criterion, target_seq_len, device):\n",
    "    model.eval()\n",
    "    epoch_loss = 0\n",
    "    all_actuals = []\n",
    "    all_predictions = []\n",
    "    with torch.no_grad():\n",
    "        for input_seq, target_seq in test_loader:\n",
    "            input_seq, target_seq = input_seq.to(device), target_seq.to(device)\n",
    "            output_seq = model(input_seq, target_seq_len)\n",
    "            loss = criterion(output_seq, target_seq)\n",
    "            epoch_loss += loss.item()\n",
    "            all_actuals.append(target_seq.cpu().numpy())\n",
    "            all_predictions.append(output_seq.cpu().numpy())\n",
    "    avg_loss = epoch_loss / len(test_loader)\n",
    "    #print(f'Test Loss: {avg_loss:.4f}')\n",
    "    model.train()\n",
    "    return np.concatenate(all_actuals, axis=0), np.concatenate(all_predictions, axis=0), avg_loss"
   ]
  },
  {
   "cell_type": "code",
   "execution_count": 32,
   "id": "0f312e1c-4136-492a-bd2b-b5ffed7c2902",
   "metadata": {},
   "outputs": [],
   "source": [
    "class CustomDataset(Dataset):\n",
    "    def __init__(self, X, y):\n",
    "        self.X = X\n",
    "        self.y = y\n",
    "\n",
    "    def __len__(self):\n",
    "        return len(self.X)\n",
    "\n",
    "    def __getitem__(self, idx):\n",
    "        return self.X[idx], self.y[idx]\n",
    "\n",
    "def create_dataloader(X, y, batch_size, shuffle=False):\n",
    "    dataset = CustomDataset(X, y)\n",
    "    dataloader = DataLoader(dataset, batch_size=batch_size, shuffle=shuffle)\n",
    "    return dataloader"
   ]
  },
  {
   "cell_type": "code",
   "execution_count": 93,
   "id": "e09aa120-3f92-4e72-843d-c02ea981fe87",
   "metadata": {},
   "outputs": [],
   "source": [
    "input_sequence_len = len_input\n",
    "target_sequence_len  = 24\n",
    "batch_size = 64\n",
    "X_lstm_train, y_lstm_train = create_lstm_dataset(data = y_train, \n",
    "                                                 input_sequence_len=input_sequence_len,\n",
    "                                                 target_sequence_len=target_sequence_len)\n",
    "\n",
    "X_lstm_val, y_lstm_val = create_lstm_dataset(data = y_val, \n",
    "                                                 input_sequence_len=input_sequence_len,\n",
    "                                                 target_sequence_len=target_sequence_len)\n",
    "\n",
    "data_loader = create_dataloader(X=X_lstm_train, y = y_lstm_train, batch_size= batch_size, shuffle = True)\n",
    "val_loader = create_dataloader(X=X_lstm_val, y = y_lstm_val, batch_size= batch_size, shuffle = False)"
   ]
  },
  {
   "cell_type": "code",
   "execution_count": 87,
   "id": "427ccacc-5e95-4fd0-874f-ac5640a93a7c",
   "metadata": {},
   "outputs": [],
   "source": [
    "# # Hyperparameters\n",
    "# input_dim = 1  # Assuming the data is univariate\n",
    "# output_dim = 1\n",
    "# hidden_dim = 64\n",
    "# num_layers = 2\n",
    "# dropout = 0.2\n",
    "# learning_rate = 0.001\n",
    "# num_epochs = 40\n",
    "# batch_size = 64\n",
    "\n",
    "# data_loader = create_dataloader(X_lstm_train, y_lstm_train, batch_size, shuffle=True)\n",
    "# val_loader = create_dataloader(X_lstm_val, y_lstm_val, batch_size, shuffle=False)\n",
    "\n",
    "# # Model, Loss, Optimizer\n",
    "# encoder = Encoder(input_dim, hidden_dim, num_layers, dropout)\n",
    "# decoder = Decoder(output_dim, hidden_dim, num_layers, dropout)\n",
    "# model = Seq2Seq(encoder, decoder).to(torch.device('cuda' if torch.cuda.is_available() else 'cpu'))\n",
    "\n",
    "# criterion = nn.MSELoss()\n",
    "# optimizer = optim.Adam(model.parameters(), lr=learning_rate)\n",
    "\n",
    "# # Training loop\n",
    "# for epoch in range(num_epochs):\n",
    "#     model.train()\n",
    "#     for xb, yb in data_loader:\n",
    "#         xb,yb = xb.to(device), yb.to(device)\n",
    "        \n",
    "#         optimizer.zero_grad()\n",
    "    \n",
    "#         # Forward pass\n",
    "#         outputs = model(xb, target_len=24)\n",
    "        \n",
    "#         # Compute the loss\n",
    "#         loss = criterion(outputs, yb)\n",
    "        \n",
    "#         # Backward pass and optimization\n",
    "#         loss.backward()\n",
    "#         optimizer.step()\n",
    "    \n",
    "#     if (epoch+1) % 5 == 0:\n",
    "#         print(f'Epoch [{epoch+1}/{num_epochs}], Loss: {loss.item():.4f}')"
   ]
  },
  {
   "cell_type": "code",
   "execution_count": 96,
   "id": "cefff12d-dbb8-4fff-94a5-6549f3f0ae92",
   "metadata": {
    "scrolled": true
   },
   "outputs": [
    {
     "name": "stdout",
     "output_type": "stream",
     "text": [
      "Epoch [1/20], Train Loss: 10638.7530, Validation Loss: 3132.7176\n",
      "Epoch [2/20], Train Loss: 5723.4923, Validation Loss: 2017.3176\n",
      "Epoch [3/20], Train Loss: 4307.3117, Validation Loss: 1241.0571\n",
      "Epoch [4/20], Train Loss: 3147.6672, Validation Loss: 970.3061\n",
      "Epoch [5/20], Train Loss: 2632.4249, Validation Loss: 862.9288\n",
      "Epoch [6/20], Train Loss: 2372.1479, Validation Loss: 842.7823\n",
      "Epoch [7/20], Train Loss: 2242.0110, Validation Loss: 833.3883\n",
      "Epoch [8/20], Train Loss: 2137.9240, Validation Loss: 808.8180\n",
      "Epoch [9/20], Train Loss: 2068.2076, Validation Loss: 820.5946\n",
      "Epoch [10/20], Train Loss: 1997.6120, Validation Loss: 849.8192\n",
      "Epoch [11/20], Train Loss: 1962.5667, Validation Loss: 857.7252\n",
      "Epoch [12/20], Train Loss: 1919.8645, Validation Loss: 839.7669\n",
      "Epoch [13/20], Train Loss: 1900.6977, Validation Loss: 870.7377\n",
      "Epoch [14/20], Train Loss: 1889.6703, Validation Loss: 822.1024\n",
      "Epoch [15/20], Train Loss: 1851.8285, Validation Loss: 834.0702\n",
      "Epoch [16/20], Train Loss: 1894.8786, Validation Loss: 786.4514\n",
      "Epoch [17/20], Train Loss: 1818.0277, Validation Loss: 776.4894\n",
      "Epoch [18/20], Train Loss: 1792.3817, Validation Loss: 892.9828\n",
      "Epoch [19/20], Train Loss: 1780.7820, Validation Loss: 789.1966\n",
      "Epoch [20/20], Train Loss: 1759.4055, Validation Loss: 1267.8054\n"
     ]
    }
   ],
   "source": [
    "# Example usage\n",
    "if __name__ == \"__main__\":\n",
    "    input_size = 1\n",
    "    hidden_size = 128\n",
    "    output_size = 1\n",
    "    seq_length = 144\n",
    "    target_seq_len = 24\n",
    "    num_layers = 3\n",
    "    dropout = 0.2\n",
    "\n",
    "    # Model, criterion, and optimizer\n",
    "    device = torch.device('cuda' if torch.cuda.is_available() else 'cpu')\n",
    "    model = Seq2SeqLSTM(input_size, hidden_size, output_size, num_layers, dropout).to(device)\n",
    "    criterion = nn.MSELoss()\n",
    "    optimizer = optim.Adam(model.parameters(), lr=0.001)\n",
    "\n",
    "    # Train the model\n",
    "    num_epochs = 20\n",
    "    train_losses, val_losses = train(model, data_loader, val_loader,criterion, optimizer, num_epochs, target_seq_len, device)\n",
    "\n",
    "    # Evaluate the model\n",
    "    actuals, predictions, val_loss = evaluate(model, val_loader, criterion, target_seq_len, device)"
   ]
  },
  {
   "cell_type": "code",
   "execution_count": 101,
   "id": "afe34452-4070-4aa0-84fd-6626f47b233f",
   "metadata": {},
   "outputs": [
    {
     "data": {
      "text/plain": [
       "((3321, 24, 1), (3321, 24, 1))"
      ]
     },
     "execution_count": 101,
     "metadata": {},
     "output_type": "execute_result"
    }
   ],
   "source": [
    "actuals.shape, predictions.shape"
   ]
  },
  {
   "cell_type": "code",
   "execution_count": 114,
   "id": "80fa6c0f-fc42-47a8-82ff-38809a14979d",
   "metadata": {},
   "outputs": [
    {
     "data": {
      "image/png": "[encoded data removed]",
      "text/plain": [
       "<Figure size 640x480 with 1 Axes>"
      ]
     },
     "metadata": {},
     "output_type": "display_data"
    }
   ],
   "source": [
    "n = np.random.randint(0, len(actuals))\n",
    "plt.plot(actuals[n,:,0], label = \"Actual\")\n",
    "plt.plot(predictions[n,:,0], label = \"Predicted\")\n",
    "plt.title(f\"Prediction and Actual value of case {n}\")\n",
    "plt.legend()\n",
    "plt.show()"
   ]
  },
  {
   "cell_type": "code",
   "execution_count": 115,
   "id": "bb92fd16-ec28-4950-9f14-8c1e07a2d1d4",
   "metadata": {},
   "outputs": [],
   "source": [
    "# Calculate forecast RMSE\n",
    "rmse_forecast = np.sqrt(np.mean((actuals[:,:,0] - predictions[:,:,0]) ** 2))"
   ]
  },
  {
   "cell_type": "code",
   "execution_count": 116,
   "id": "b5a68ad4-acc9-4b5f-a4f9-7541651a378d",
   "metadata": {},
   "outputs": [
    {
     "data": {
      "text/plain": [
       "35.631874"
      ]
     },
     "execution_count": 116,
     "metadata": {},
     "output_type": "execute_result"
    }
   ],
   "source": [
    "rmse_forecast"
   ]
  },
  {
   "cell_type": "markdown",
   "id": "74bf696c-946a-4323-a618-2fe1aab16f5b",
   "metadata": {},
   "source": [
    "#### Tambahan Model Seq2one"
   ]
  },
  {
   "cell_type": "code",
   "execution_count": 205,
   "id": "85ab923e-22fb-44c9-a45f-2b297af059dc",
   "metadata": {},
   "outputs": [],
   "source": [
    "import torch\n",
    "import torch.nn as nn\n",
    "import torch.optim as optim\n",
    "\n",
    "class Seq2One(nn.Module):\n",
    "    def __init__(self, input_dim, hidden_dim, num_layers, dropout=0.2):\n",
    "        super(Seq2One, self).__init__()\n",
    "        self.hidden_dim = hidden_dim\n",
    "        self.num_layers = num_layers\n",
    "        self.lstm = nn.LSTM(input_dim, hidden_dim, num_layers, batch_first=True, dropout=dropout)\n",
    "        self.fc = nn.Linear(hidden_dim, 1)\n",
    "\n",
    "    def forward(self, x):\n",
    "        # Initialize hidden state and cell state\n",
    "        h0 = torch.zeros(self.num_layers, x.size(0), self.hidden_dim).to(x.device)\n",
    "        c0 = torch.zeros(self.num_layers, x.size(0), self.hidden_dim).to(x.device)\n",
    "\n",
    "        # LSTM forward pass\n",
    "        out, _ = self.lstm(x, (h0, c0))\n",
    "        \n",
    "        # Only take the last time step's output\n",
    "        out = out[:, -1, :]\n",
    "        out = self.fc(out)\n",
    "        return out"
   ]
  },
  {
   "cell_type": "code",
   "execution_count": 220,
   "id": "f84abeb8-7df7-44c9-902c-08d1a97f6db7",
   "metadata": {},
   "outputs": [],
   "source": [
    "input_sequence_len = 144\n",
    "target_sequence_len  = 1\n",
    "batch_size = 64\n",
    "X_lstm_train, y_lstm_train = create_lstm_dataset(data = y_train, \n",
    "                                                 input_sequence_len=input_sequence_len,\n",
    "                                                 target_sequence_len=target_sequence_len)\n",
    "\n",
    "X_lstm_val, y_lstm_val = create_lstm_dataset(data = y_val, \n",
    "                                                 input_sequence_len=input_sequence_len,\n",
    "                                                 target_sequence_len=24)\n",
    "\n",
    "n,_,_ = y_lstm_train.shape\n",
    "y_lstm_train = y_lstm_train.view(n,1)\n",
    "\n",
    "data_loader = create_dataloader(X=X_lstm_train, y = y_lstm_train, batch_size= batch_size, shuffle = True)\n",
    "val_loader = create_dataloader(X=X_lstm_val, y = y_lstm_val, batch_size= batch_size, shuffle = False)"
   ]
  },
  {
   "cell_type": "code",
   "execution_count": 221,
   "id": "59184e61-1fee-49e5-be4d-8aca751867c1",
   "metadata": {},
   "outputs": [
    {
     "name": "stdout",
     "output_type": "stream",
     "text": [
      "torch.Size([13872, 144, 1]) torch.Size([13872, 1]) torch.Size([3321, 144, 1]) torch.Size([3321, 24, 1])\n"
     ]
    }
   ],
   "source": [
    "print(X_lstm_train.shape, y_lstm_train.shape, X_lstm_val.shape, y_lstm_val.shape)"
   ]
  },
  {
   "cell_type": "code",
   "execution_count": 222,
   "id": "53976862-e7bc-4c4f-b614-65a440075f9f",
   "metadata": {},
   "outputs": [
    {
     "name": "stdout",
     "output_type": "stream",
     "text": [
      "Epoch [2/20], Loss: 12408.2764\n",
      "Epoch [4/20], Loss: 6602.3257\n",
      "Epoch [6/20], Loss: 3657.6199\n",
      "Epoch [8/20], Loss: 3526.8640\n",
      "Epoch [10/20], Loss: 1970.3582\n",
      "Epoch [12/20], Loss: 4159.2354\n",
      "Epoch [14/20], Loss: 728.3350\n",
      "Epoch [16/20], Loss: 1576.2773\n",
      "Epoch [18/20], Loss: 4343.0459\n",
      "Epoch [20/20], Loss: 1065.7075\n"
     ]
    }
   ],
   "source": [
    "# Hyperparameters\n",
    "input_dim = 1  # Assuming the data is univariate\n",
    "hidden_dim = 64\n",
    "num_layers = 2\n",
    "dropout = 0.2\n",
    "learning_rate = 0.001\n",
    "num_epochs = 20\n",
    "\n",
    "# Model, Loss, Optimizer\n",
    "model = Seq2One(input_dim, hidden_dim, num_layers, dropout).to(torch.device('cuda' if torch.cuda.is_available() else 'cpu'))\n",
    "criterion = nn.MSELoss()\n",
    "optimizer = optim.Adam(model.parameters(), lr=learning_rate)\n",
    "losses = []\n",
    "# Training loop\n",
    "for epoch in range(num_epochs):\n",
    "    model.train()\n",
    "    for xb,yb in data_loader:\n",
    "        xb,yb = xb.to(device), yb.to(device)\n",
    "        optimizer.zero_grad()\n",
    "    \n",
    "        # Forward pass\n",
    "        outputs = model(xb)\n",
    "        \n",
    "        # Compute the loss\n",
    "        loss = criterion(outputs, yb)\n",
    "        \n",
    "        # Backward pass and optimization\n",
    "        loss.backward()\n",
    "        optimizer.step()\n",
    "    \n",
    "    if (epoch+1) % 2 == 0:\n",
    "        print(f'Epoch [{epoch+1}/{num_epochs}], Loss: {loss.item():.4f}')\n",
    "        \n",
    "    losses.append(loss.item())"
   ]
  },
  {
   "cell_type": "code",
   "execution_count": 223,
   "id": "a6c13f4d-927e-4c3e-b9e0-55f48629d8ed",
   "metadata": {},
   "outputs": [],
   "source": [
    "def forecast_sequence(model, X_val, len_input_sequence, len_future):\n",
    "    n,t,input_dim = X_val.shape\n",
    "    with torch.no_grad():\n",
    "        outputs = []\n",
    "        for i in range(n):\n",
    "            Xi = X_val[i:i+1,:,:].to(device)\n",
    "            pred = [] #list to contain the value of the output\n",
    "            for j in range(len_future):\n",
    "                output = model(Xi[:, -len_input_sequence:, :])\n",
    "                Xi = torch.cat((Xi, output.unsqueeze(1)), dim = 1)\n",
    "                pred.append(output.to(\"cpu\").numpy()[0,0])\n",
    "            outputs.append(pred)\n",
    "    return outputs"
   ]
  },
  {
   "cell_type": "code",
   "execution_count": 224,
   "id": "598e6da2-dedb-4d89-abaf-e3774ba33885",
   "metadata": {},
   "outputs": [],
   "source": [
    "len_future = 24\n",
    "outputs = forecast_sequence(model = model, X_val = X_lstm_val,\n",
    "                            len_input_sequence = input_sequence_len, len_future = len_future)"
   ]
  },
  {
   "cell_type": "code",
   "execution_count": 225,
   "id": "61f00137-e47c-4530-b409-2bf57c61018b",
   "metadata": {},
   "outputs": [],
   "source": [
    "outputs = np.array(outputs)\n",
    "n,t,indim = y_lstm_val.shape\n",
    "y_lstm_val = np.reshape(y_lstm_val, (n,-1))"
   ]
  },
  {
   "cell_type": "code",
   "execution_count": 228,
   "id": "86efc3f0-588e-4079-8b63-9eb233d3f610",
   "metadata": {},
   "outputs": [
    {
     "data": {
      "image/png": "[encoded data removed]",
      "text/plain": [
       "<Figure size 640x480 with 1 Axes>"
      ]
     },
     "metadata": {},
     "output_type": "display_data"
    }
   ],
   "source": [
    "n = np.random.randint(0, len(y_lstm_val))\n",
    "n = 2516\n",
    "plt.plot(outputs[n], label = \"Predicted\")\n",
    "plt.plot(y_lstm_val[n], label = \"Actual\")\n",
    "plt.title(f\"Actual and Predicted Value of debit case {n}\")\n",
    "plt.legend()\n",
    "plt.show()"
   ]
  },
  {
   "cell_type": "markdown",
   "id": "33612b0f-1101-4eb7-8582-4832507a5a2f",
   "metadata": {},
   "source": [
    "### Evaluasi output pada kejadian banjir"
   ]
  },
  {
   "cell_type": "code",
   "execution_count": 158,
   "id": "7c4eac78-3238-4e05-9a9b-00cfbabfd84f",
   "metadata": {},
   "outputs": [
    {
     "name": "stdout",
     "output_type": "stream",
     "text": [
      "Pearson correlation coefficient: 0.9999999999999999\n"
     ]
    }
   ],
   "source": [
    "import numpy as np\n",
    "\n",
    "# Example data\n",
    "x = np.array([1, 2, 3, 4, 5])\n",
    "y = np.array([2, 4, 6, 8, 10])\n",
    "\n",
    "# Calculate Pearson correlation coefficient\n",
    "correlation = np.corrcoef(x, y)[0, 1]\n",
    "\n",
    "print(f\"Pearson correlation coefficient: {correlation}\")"
   ]
  },
  {
   "cell_type": "code",
   "execution_count": 157,
   "id": "b23e9a13-9356-4daf-a5c3-8c71acc286dd",
   "metadata": {
    "scrolled": true
   },
   "outputs": [
    {
     "ename": "RuntimeError",
     "evalue": "input.size(-1) must be equal to input_size. Expected 128, got 1",
     "output_type": "error",
     "traceback": [
      "\u001b[1;31m---------------------------------------------------------------------------\u001b[0m",
      "\u001b[1;31mRuntimeError\u001b[0m                              Traceback (most recent call last)",
      "Cell \u001b[1;32mIn[157], line 90\u001b[0m\n\u001b[0;32m     87\u001b[0m X_batch, y_batch \u001b[38;5;241m=\u001b[39m X_batch\u001b[38;5;241m.\u001b[39mto(device), y_batch\u001b[38;5;241m.\u001b[39mto(device)\n\u001b[0;32m     89\u001b[0m \u001b[38;5;66;03m# Forward pass\u001b[39;00m\n\u001b[1;32m---> 90\u001b[0m outputs \u001b[38;5;241m=\u001b[39m \u001b[43mmodel\u001b[49m\u001b[43m(\u001b[49m\u001b[43mX_batch\u001b[49m\u001b[43m)\u001b[49m\n\u001b[0;32m     91\u001b[0m loss \u001b[38;5;241m=\u001b[39m criterion(outputs, y_batch)\n\u001b[0;32m     93\u001b[0m \u001b[38;5;66;03m# Backward pass and optimization\u001b[39;00m\n",
      "File \u001b[1;32m~\\anaconda3\\envs\\ews\\Lib\\site-packages\\torch\\nn\\modules\\module.py:1532\u001b[0m, in \u001b[0;36mModule._wrapped_call_impl\u001b[1;34m(self, *args, **kwargs)\u001b[0m\n\u001b[0;32m   1530\u001b[0m     \u001b[38;5;28;01mreturn\u001b[39;00m \u001b[38;5;28mself\u001b[39m\u001b[38;5;241m.\u001b[39m_compiled_call_impl(\u001b[38;5;241m*\u001b[39margs, \u001b[38;5;241m*\u001b[39m\u001b[38;5;241m*\u001b[39mkwargs)  \u001b[38;5;66;03m# type: ignore[misc]\u001b[39;00m\n\u001b[0;32m   1531\u001b[0m \u001b[38;5;28;01melse\u001b[39;00m:\n\u001b[1;32m-> 1532\u001b[0m     \u001b[38;5;28;01mreturn\u001b[39;00m \u001b[38;5;28;43mself\u001b[39;49m\u001b[38;5;241;43m.\u001b[39;49m\u001b[43m_call_impl\u001b[49m\u001b[43m(\u001b[49m\u001b[38;5;241;43m*\u001b[39;49m\u001b[43margs\u001b[49m\u001b[43m,\u001b[49m\u001b[43m \u001b[49m\u001b[38;5;241;43m*\u001b[39;49m\u001b[38;5;241;43m*\u001b[39;49m\u001b[43mkwargs\u001b[49m\u001b[43m)\u001b[49m\n",
      "File \u001b[1;32m~\\anaconda3\\envs\\ews\\Lib\\site-packages\\torch\\nn\\modules\\module.py:1541\u001b[0m, in \u001b[0;36mModule._call_impl\u001b[1;34m(self, *args, **kwargs)\u001b[0m\n\u001b[0;32m   1536\u001b[0m \u001b[38;5;66;03m# If we don't have any hooks, we want to skip the rest of the logic in\u001b[39;00m\n\u001b[0;32m   1537\u001b[0m \u001b[38;5;66;03m# this function, and just call forward.\u001b[39;00m\n\u001b[0;32m   1538\u001b[0m \u001b[38;5;28;01mif\u001b[39;00m \u001b[38;5;129;01mnot\u001b[39;00m (\u001b[38;5;28mself\u001b[39m\u001b[38;5;241m.\u001b[39m_backward_hooks \u001b[38;5;129;01mor\u001b[39;00m \u001b[38;5;28mself\u001b[39m\u001b[38;5;241m.\u001b[39m_backward_pre_hooks \u001b[38;5;129;01mor\u001b[39;00m \u001b[38;5;28mself\u001b[39m\u001b[38;5;241m.\u001b[39m_forward_hooks \u001b[38;5;129;01mor\u001b[39;00m \u001b[38;5;28mself\u001b[39m\u001b[38;5;241m.\u001b[39m_forward_pre_hooks\n\u001b[0;32m   1539\u001b[0m         \u001b[38;5;129;01mor\u001b[39;00m _global_backward_pre_hooks \u001b[38;5;129;01mor\u001b[39;00m _global_backward_hooks\n\u001b[0;32m   1540\u001b[0m         \u001b[38;5;129;01mor\u001b[39;00m _global_forward_hooks \u001b[38;5;129;01mor\u001b[39;00m _global_forward_pre_hooks):\n\u001b[1;32m-> 1541\u001b[0m     \u001b[38;5;28;01mreturn\u001b[39;00m \u001b[43mforward_call\u001b[49m\u001b[43m(\u001b[49m\u001b[38;5;241;43m*\u001b[39;49m\u001b[43margs\u001b[49m\u001b[43m,\u001b[49m\u001b[43m \u001b[49m\u001b[38;5;241;43m*\u001b[39;49m\u001b[38;5;241;43m*\u001b[39;49m\u001b[43mkwargs\u001b[49m\u001b[43m)\u001b[49m\n\u001b[0;32m   1543\u001b[0m \u001b[38;5;28;01mtry\u001b[39;00m:\n\u001b[0;32m   1544\u001b[0m     result \u001b[38;5;241m=\u001b[39m \u001b[38;5;28;01mNone\u001b[39;00m\n",
      "Cell \u001b[1;32mIn[157], line 47\u001b[0m, in \u001b[0;36mSeq2Seq.forward\u001b[1;34m(self, x)\u001b[0m\n\u001b[0;32m     45\u001b[0m outputs \u001b[38;5;241m=\u001b[39m []\n\u001b[0;32m     46\u001b[0m \u001b[38;5;28;01mfor\u001b[39;00m t \u001b[38;5;129;01min\u001b[39;00m \u001b[38;5;28mrange\u001b[39m(\u001b[38;5;241m24\u001b[39m):  \u001b[38;5;66;03m# Output sequence length is 24\u001b[39;00m\n\u001b[1;32m---> 47\u001b[0m     decoder_output, hn, cn \u001b[38;5;241m=\u001b[39m \u001b[38;5;28;43mself\u001b[39;49m\u001b[38;5;241;43m.\u001b[39;49m\u001b[43mdecoder\u001b[49m\u001b[43m(\u001b[49m\u001b[43mdecoder_input\u001b[49m\u001b[43m,\u001b[49m\u001b[43m \u001b[49m\u001b[43mhn\u001b[49m\u001b[43m,\u001b[49m\u001b[43m \u001b[49m\u001b[43mcn\u001b[49m\u001b[43m)\u001b[49m\n\u001b[0;32m     48\u001b[0m     outputs\u001b[38;5;241m.\u001b[39mappend(decoder_output)\n\u001b[0;32m     49\u001b[0m     decoder_input \u001b[38;5;241m=\u001b[39m decoder_output  \u001b[38;5;66;03m# No teacher forcing\u001b[39;00m\n",
      "File \u001b[1;32m~\\anaconda3\\envs\\ews\\Lib\\site-packages\\torch\\nn\\modules\\module.py:1532\u001b[0m, in \u001b[0;36mModule._wrapped_call_impl\u001b[1;34m(self, *args, **kwargs)\u001b[0m\n\u001b[0;32m   1530\u001b[0m     \u001b[38;5;28;01mreturn\u001b[39;00m \u001b[38;5;28mself\u001b[39m\u001b[38;5;241m.\u001b[39m_compiled_call_impl(\u001b[38;5;241m*\u001b[39margs, \u001b[38;5;241m*\u001b[39m\u001b[38;5;241m*\u001b[39mkwargs)  \u001b[38;5;66;03m# type: ignore[misc]\u001b[39;00m\n\u001b[0;32m   1531\u001b[0m \u001b[38;5;28;01melse\u001b[39;00m:\n\u001b[1;32m-> 1532\u001b[0m     \u001b[38;5;28;01mreturn\u001b[39;00m \u001b[38;5;28;43mself\u001b[39;49m\u001b[38;5;241;43m.\u001b[39;49m\u001b[43m_call_impl\u001b[49m\u001b[43m(\u001b[49m\u001b[38;5;241;43m*\u001b[39;49m\u001b[43margs\u001b[49m\u001b[43m,\u001b[49m\u001b[43m \u001b[49m\u001b[38;5;241;43m*\u001b[39;49m\u001b[38;5;241;43m*\u001b[39;49m\u001b[43mkwargs\u001b[49m\u001b[43m)\u001b[49m\n",
      "File \u001b[1;32m~\\anaconda3\\envs\\ews\\Lib\\site-packages\\torch\\nn\\modules\\module.py:1541\u001b[0m, in \u001b[0;36mModule._call_impl\u001b[1;34m(self, *args, **kwargs)\u001b[0m\n\u001b[0;32m   1536\u001b[0m \u001b[38;5;66;03m# If we don't have any hooks, we want to skip the rest of the logic in\u001b[39;00m\n\u001b[0;32m   1537\u001b[0m \u001b[38;5;66;03m# this function, and just call forward.\u001b[39;00m\n\u001b[0;32m   1538\u001b[0m \u001b[38;5;28;01mif\u001b[39;00m \u001b[38;5;129;01mnot\u001b[39;00m (\u001b[38;5;28mself\u001b[39m\u001b[38;5;241m.\u001b[39m_backward_hooks \u001b[38;5;129;01mor\u001b[39;00m \u001b[38;5;28mself\u001b[39m\u001b[38;5;241m.\u001b[39m_backward_pre_hooks \u001b[38;5;129;01mor\u001b[39;00m \u001b[38;5;28mself\u001b[39m\u001b[38;5;241m.\u001b[39m_forward_hooks \u001b[38;5;129;01mor\u001b[39;00m \u001b[38;5;28mself\u001b[39m\u001b[38;5;241m.\u001b[39m_forward_pre_hooks\n\u001b[0;32m   1539\u001b[0m         \u001b[38;5;129;01mor\u001b[39;00m _global_backward_pre_hooks \u001b[38;5;129;01mor\u001b[39;00m _global_backward_hooks\n\u001b[0;32m   1540\u001b[0m         \u001b[38;5;129;01mor\u001b[39;00m _global_forward_hooks \u001b[38;5;129;01mor\u001b[39;00m _global_forward_pre_hooks):\n\u001b[1;32m-> 1541\u001b[0m     \u001b[38;5;28;01mreturn\u001b[39;00m \u001b[43mforward_call\u001b[49m\u001b[43m(\u001b[49m\u001b[38;5;241;43m*\u001b[39;49m\u001b[43margs\u001b[49m\u001b[43m,\u001b[49m\u001b[43m \u001b[49m\u001b[38;5;241;43m*\u001b[39;49m\u001b[38;5;241;43m*\u001b[39;49m\u001b[43mkwargs\u001b[49m\u001b[43m)\u001b[49m\n\u001b[0;32m   1543\u001b[0m \u001b[38;5;28;01mtry\u001b[39;00m:\n\u001b[0;32m   1544\u001b[0m     result \u001b[38;5;241m=\u001b[39m \u001b[38;5;28;01mNone\u001b[39;00m\n",
      "Cell \u001b[1;32mIn[157], line 30\u001b[0m, in \u001b[0;36mDecoder.forward\u001b[1;34m(self, x, hn, cn)\u001b[0m\n\u001b[0;32m     29\u001b[0m \u001b[38;5;28;01mdef\u001b[39;00m \u001b[38;5;21mforward\u001b[39m(\u001b[38;5;28mself\u001b[39m, x, hn, cn):\n\u001b[1;32m---> 30\u001b[0m     out, (hn, cn) \u001b[38;5;241m=\u001b[39m \u001b[38;5;28;43mself\u001b[39;49m\u001b[38;5;241;43m.\u001b[39;49m\u001b[43mlstm\u001b[49m\u001b[43m(\u001b[49m\u001b[43mx\u001b[49m\u001b[43m,\u001b[49m\u001b[43m \u001b[49m\u001b[43m(\u001b[49m\u001b[43mhn\u001b[49m\u001b[43m,\u001b[49m\u001b[43m \u001b[49m\u001b[43mcn\u001b[49m\u001b[43m)\u001b[49m\u001b[43m)\u001b[49m\n\u001b[0;32m     31\u001b[0m     out \u001b[38;5;241m=\u001b[39m \u001b[38;5;28mself\u001b[39m\u001b[38;5;241m.\u001b[39mfc(out)\n\u001b[0;32m     32\u001b[0m     \u001b[38;5;28;01mreturn\u001b[39;00m out, hn, cn\n",
      "File \u001b[1;32m~\\anaconda3\\envs\\ews\\Lib\\site-packages\\torch\\nn\\modules\\module.py:1532\u001b[0m, in \u001b[0;36mModule._wrapped_call_impl\u001b[1;34m(self, *args, **kwargs)\u001b[0m\n\u001b[0;32m   1530\u001b[0m     \u001b[38;5;28;01mreturn\u001b[39;00m \u001b[38;5;28mself\u001b[39m\u001b[38;5;241m.\u001b[39m_compiled_call_impl(\u001b[38;5;241m*\u001b[39margs, \u001b[38;5;241m*\u001b[39m\u001b[38;5;241m*\u001b[39mkwargs)  \u001b[38;5;66;03m# type: ignore[misc]\u001b[39;00m\n\u001b[0;32m   1531\u001b[0m \u001b[38;5;28;01melse\u001b[39;00m:\n\u001b[1;32m-> 1532\u001b[0m     \u001b[38;5;28;01mreturn\u001b[39;00m \u001b[38;5;28;43mself\u001b[39;49m\u001b[38;5;241;43m.\u001b[39;49m\u001b[43m_call_impl\u001b[49m\u001b[43m(\u001b[49m\u001b[38;5;241;43m*\u001b[39;49m\u001b[43margs\u001b[49m\u001b[43m,\u001b[49m\u001b[43m \u001b[49m\u001b[38;5;241;43m*\u001b[39;49m\u001b[38;5;241;43m*\u001b[39;49m\u001b[43mkwargs\u001b[49m\u001b[43m)\u001b[49m\n",
      "File \u001b[1;32m~\\anaconda3\\envs\\ews\\Lib\\site-packages\\torch\\nn\\modules\\module.py:1541\u001b[0m, in \u001b[0;36mModule._call_impl\u001b[1;34m(self, *args, **kwargs)\u001b[0m\n\u001b[0;32m   1536\u001b[0m \u001b[38;5;66;03m# If we don't have any hooks, we want to skip the rest of the logic in\u001b[39;00m\n\u001b[0;32m   1537\u001b[0m \u001b[38;5;66;03m# this function, and just call forward.\u001b[39;00m\n\u001b[0;32m   1538\u001b[0m \u001b[38;5;28;01mif\u001b[39;00m \u001b[38;5;129;01mnot\u001b[39;00m (\u001b[38;5;28mself\u001b[39m\u001b[38;5;241m.\u001b[39m_backward_hooks \u001b[38;5;129;01mor\u001b[39;00m \u001b[38;5;28mself\u001b[39m\u001b[38;5;241m.\u001b[39m_backward_pre_hooks \u001b[38;5;129;01mor\u001b[39;00m \u001b[38;5;28mself\u001b[39m\u001b[38;5;241m.\u001b[39m_forward_hooks \u001b[38;5;129;01mor\u001b[39;00m \u001b[38;5;28mself\u001b[39m\u001b[38;5;241m.\u001b[39m_forward_pre_hooks\n\u001b[0;32m   1539\u001b[0m         \u001b[38;5;129;01mor\u001b[39;00m _global_backward_pre_hooks \u001b[38;5;129;01mor\u001b[39;00m _global_backward_hooks\n\u001b[0;32m   1540\u001b[0m         \u001b[38;5;129;01mor\u001b[39;00m _global_forward_hooks \u001b[38;5;129;01mor\u001b[39;00m _global_forward_pre_hooks):\n\u001b[1;32m-> 1541\u001b[0m     \u001b[38;5;28;01mreturn\u001b[39;00m \u001b[43mforward_call\u001b[49m\u001b[43m(\u001b[49m\u001b[38;5;241;43m*\u001b[39;49m\u001b[43margs\u001b[49m\u001b[43m,\u001b[49m\u001b[43m \u001b[49m\u001b[38;5;241;43m*\u001b[39;49m\u001b[38;5;241;43m*\u001b[39;49m\u001b[43mkwargs\u001b[49m\u001b[43m)\u001b[49m\n\u001b[0;32m   1543\u001b[0m \u001b[38;5;28;01mtry\u001b[39;00m:\n\u001b[0;32m   1544\u001b[0m     result \u001b[38;5;241m=\u001b[39m \u001b[38;5;28;01mNone\u001b[39;00m\n",
      "File \u001b[1;32m~\\anaconda3\\envs\\ews\\Lib\\site-packages\\torch\\nn\\modules\\rnn.py:907\u001b[0m, in \u001b[0;36mLSTM.forward\u001b[1;34m(self, input, hx)\u001b[0m\n\u001b[0;32m    904\u001b[0m             hx \u001b[38;5;241m=\u001b[39m (hx[\u001b[38;5;241m0\u001b[39m]\u001b[38;5;241m.\u001b[39munsqueeze(\u001b[38;5;241m1\u001b[39m), hx[\u001b[38;5;241m1\u001b[39m]\u001b[38;5;241m.\u001b[39munsqueeze(\u001b[38;5;241m1\u001b[39m))\n\u001b[0;32m    905\u001b[0m         \u001b[38;5;66;03m# Each batch of the hidden state should match the input sequence that\u001b[39;00m\n\u001b[0;32m    906\u001b[0m         \u001b[38;5;66;03m# the user believes he/she is passing in.\u001b[39;00m\n\u001b[1;32m--> 907\u001b[0m         \u001b[38;5;28;43mself\u001b[39;49m\u001b[38;5;241;43m.\u001b[39;49m\u001b[43mcheck_forward_args\u001b[49m\u001b[43m(\u001b[49m\u001b[38;5;28;43minput\u001b[39;49m\u001b[43m,\u001b[49m\u001b[43m \u001b[49m\u001b[43mhx\u001b[49m\u001b[43m,\u001b[49m\u001b[43m \u001b[49m\u001b[43mbatch_sizes\u001b[49m\u001b[43m)\u001b[49m\n\u001b[0;32m    908\u001b[0m         hx \u001b[38;5;241m=\u001b[39m \u001b[38;5;28mself\u001b[39m\u001b[38;5;241m.\u001b[39mpermute_hidden(hx, sorted_indices)\n\u001b[0;32m    910\u001b[0m \u001b[38;5;28;01mif\u001b[39;00m batch_sizes \u001b[38;5;129;01mis\u001b[39;00m \u001b[38;5;28;01mNone\u001b[39;00m:\n",
      "File \u001b[1;32m~\\anaconda3\\envs\\ews\\Lib\\site-packages\\torch\\nn\\modules\\rnn.py:821\u001b[0m, in \u001b[0;36mLSTM.check_forward_args\u001b[1;34m(self, input, hidden, batch_sizes)\u001b[0m\n\u001b[0;32m    816\u001b[0m \u001b[38;5;28;01mdef\u001b[39;00m \u001b[38;5;21mcheck_forward_args\u001b[39m(\u001b[38;5;28mself\u001b[39m,  \u001b[38;5;66;03m# type: ignore[override]\u001b[39;00m\n\u001b[0;32m    817\u001b[0m                        \u001b[38;5;28minput\u001b[39m: Tensor,\n\u001b[0;32m    818\u001b[0m                        hidden: Tuple[Tensor, Tensor],\n\u001b[0;32m    819\u001b[0m                        batch_sizes: Optional[Tensor],\n\u001b[0;32m    820\u001b[0m                        ):\n\u001b[1;32m--> 821\u001b[0m     \u001b[38;5;28;43mself\u001b[39;49m\u001b[38;5;241;43m.\u001b[39;49m\u001b[43mcheck_input\u001b[49m\u001b[43m(\u001b[49m\u001b[38;5;28;43minput\u001b[39;49m\u001b[43m,\u001b[49m\u001b[43m \u001b[49m\u001b[43mbatch_sizes\u001b[49m\u001b[43m)\u001b[49m\n\u001b[0;32m    822\u001b[0m     \u001b[38;5;28mself\u001b[39m\u001b[38;5;241m.\u001b[39mcheck_hidden_size(hidden[\u001b[38;5;241m0\u001b[39m], \u001b[38;5;28mself\u001b[39m\u001b[38;5;241m.\u001b[39mget_expected_hidden_size(\u001b[38;5;28minput\u001b[39m, batch_sizes),\n\u001b[0;32m    823\u001b[0m                            \u001b[38;5;124m'\u001b[39m\u001b[38;5;124mExpected hidden[0] size \u001b[39m\u001b[38;5;132;01m{}\u001b[39;00m\u001b[38;5;124m, got \u001b[39m\u001b[38;5;132;01m{}\u001b[39;00m\u001b[38;5;124m'\u001b[39m)\n\u001b[0;32m    824\u001b[0m     \u001b[38;5;28mself\u001b[39m\u001b[38;5;241m.\u001b[39mcheck_hidden_size(hidden[\u001b[38;5;241m1\u001b[39m], \u001b[38;5;28mself\u001b[39m\u001b[38;5;241m.\u001b[39mget_expected_cell_size(\u001b[38;5;28minput\u001b[39m, batch_sizes),\n\u001b[0;32m    825\u001b[0m                            \u001b[38;5;124m'\u001b[39m\u001b[38;5;124mExpected hidden[1] size \u001b[39m\u001b[38;5;132;01m{}\u001b[39;00m\u001b[38;5;124m, got \u001b[39m\u001b[38;5;132;01m{}\u001b[39;00m\u001b[38;5;124m'\u001b[39m)\n",
      "File \u001b[1;32m~\\anaconda3\\envs\\ews\\Lib\\site-packages\\torch\\nn\\modules\\rnn.py:240\u001b[0m, in \u001b[0;36mRNNBase.check_input\u001b[1;34m(self, input, batch_sizes)\u001b[0m\n\u001b[0;32m    237\u001b[0m     \u001b[38;5;28;01mraise\u001b[39;00m \u001b[38;5;167;01mRuntimeError\u001b[39;00m(\n\u001b[0;32m    238\u001b[0m         \u001b[38;5;124mf\u001b[39m\u001b[38;5;124m'\u001b[39m\u001b[38;5;124minput must have \u001b[39m\u001b[38;5;132;01m{\u001b[39;00mexpected_input_dim\u001b[38;5;132;01m}\u001b[39;00m\u001b[38;5;124m dimensions, got \u001b[39m\u001b[38;5;132;01m{\u001b[39;00m\u001b[38;5;28minput\u001b[39m\u001b[38;5;241m.\u001b[39mdim()\u001b[38;5;132;01m}\u001b[39;00m\u001b[38;5;124m'\u001b[39m)\n\u001b[0;32m    239\u001b[0m \u001b[38;5;28;01mif\u001b[39;00m \u001b[38;5;28mself\u001b[39m\u001b[38;5;241m.\u001b[39minput_size \u001b[38;5;241m!=\u001b[39m \u001b[38;5;28minput\u001b[39m\u001b[38;5;241m.\u001b[39msize(\u001b[38;5;241m-\u001b[39m\u001b[38;5;241m1\u001b[39m):\n\u001b[1;32m--> 240\u001b[0m     \u001b[38;5;28;01mraise\u001b[39;00m \u001b[38;5;167;01mRuntimeError\u001b[39;00m(\n\u001b[0;32m    241\u001b[0m         \u001b[38;5;124mf\u001b[39m\u001b[38;5;124m'\u001b[39m\u001b[38;5;124minput.size(-1) must be equal to input_size. Expected \u001b[39m\u001b[38;5;132;01m{\u001b[39;00m\u001b[38;5;28mself\u001b[39m\u001b[38;5;241m.\u001b[39minput_size\u001b[38;5;132;01m}\u001b[39;00m\u001b[38;5;124m, got \u001b[39m\u001b[38;5;132;01m{\u001b[39;00m\u001b[38;5;28minput\u001b[39m\u001b[38;5;241m.\u001b[39msize(\u001b[38;5;241m-\u001b[39m\u001b[38;5;241m1\u001b[39m)\u001b[38;5;132;01m}\u001b[39;00m\u001b[38;5;124m'\u001b[39m)\n",
      "\u001b[1;31mRuntimeError\u001b[0m: input.size(-1) must be equal to input_size. Expected 128, got 1"
     ]
    }
   ],
   "source": [
    "import torch\n",
    "import torch.nn as nn\n",
    "import torch.optim as optim\n",
    "from torch.utils.data import DataLoader, TensorDataset\n",
    "\n",
    "# Define the Encoder\n",
    "class Encoder(nn.Module):\n",
    "    def __init__(self, input_size, hidden_size, num_layers=2):\n",
    "        super(Encoder, self).__init__()\n",
    "        self.hidden_size = hidden_size\n",
    "        self.num_layers = num_layers\n",
    "        self.lstm = nn.LSTM(input_size, hidden_size, num_layers, batch_first=True)\n",
    "\n",
    "    def forward(self, x):\n",
    "        h0 = torch.zeros(self.num_layers, x.size(0), self.hidden_size).to(x.device)\n",
    "        c0 = torch.zeros(self.num_layers, x.size(0), self.hidden_size).to(x.device)\n",
    "        out, (hn, cn) = self.lstm(x, (h0, c0))\n",
    "        return out, hn, cn\n",
    "\n",
    "# Define the Decoder\n",
    "class Decoder(nn.Module):\n",
    "    def __init__(self, hidden_size, output_size, num_layers=2):\n",
    "        super(Decoder, self).__init__()\n",
    "        self.hidden_size = hidden_size\n",
    "        self.num_layers = num_layers\n",
    "        self.lstm = nn.LSTM(hidden_size, hidden_size, num_layers, batch_first=True)\n",
    "        self.fc = nn.Linear(hidden_size, output_size)\n",
    "\n",
    "    def forward(self, x, hn, cn):\n",
    "        out, (hn, cn) = self.lstm(x, (hn, cn))\n",
    "        out = self.fc(out)\n",
    "        return out, hn, cn\n",
    "\n",
    "# Define the Seq2Seq Model\n",
    "class Seq2Seq(nn.Module):\n",
    "    def __init__(self, input_size, hidden_size, output_size, num_layers=2):\n",
    "        super(Seq2Seq, self).__init__()\n",
    "        self.encoder = Encoder(input_size, hidden_size, num_layers)\n",
    "        self.decoder = Decoder(hidden_size, output_size, num_layers)\n",
    "        self.fc = nn.Linear(hidden_size, hidden_size)  # Transform encoder output to decoder input size\n",
    "        \n",
    "    def forward(self, x):\n",
    "        encoder_output, hn, cn = self.encoder(x)\n",
    "        decoder_input = self.fc(encoder_output[:, -1, :]).unsqueeze(1)\n",
    "        outputs = []\n",
    "        for t in range(24):  # Output sequence length is 24\n",
    "            decoder_output, hn, cn = self.decoder(decoder_input, hn, cn)\n",
    "            outputs.append(decoder_output)\n",
    "            decoder_input = decoder_output  # No teacher forcing\n",
    "        outputs = torch.cat(outputs, dim=1)\n",
    "        return outputs\n",
    "\n",
    "# Hyperparameters\n",
    "input_size = 1\n",
    "hidden_size = 128\n",
    "output_size = 1\n",
    "num_layers = 2\n",
    "learning_rate = 0.001\n",
    "num_epochs = 10\n",
    "batch_size = 16\n",
    "\n",
    "# Create synthetic dataset\n",
    "# Example: input sequences of length 144, output sequences of length 24\n",
    "X_train = torch.randn(1000, 144, 1)  # 1000 samples, input sequence length 144, 1 feature\n",
    "y_train = torch.randn(1000, 24, 1)   # 1000 samples, output sequence length 24, 1 feature\n",
    "\n",
    "X_val = torch.randn(200, 144, 1)     # 200 validation samples\n",
    "y_val = torch.randn(200, 24, 1)      # 200 validation samples\n",
    "\n",
    "train_dataset = TensorDataset(X_train, y_train)\n",
    "val_dataset = TensorDataset(X_val, y_val)\n",
    "\n",
    "train_loader = DataLoader(train_dataset, batch_size=batch_size, shuffle=True)\n",
    "val_loader = DataLoader(val_dataset, batch_size=batch_size, shuffle=False)\n",
    "\n",
    "# Initialize model, loss function, and optimizer\n",
    "device = torch.device(\"cuda\" if torch.cuda.is_available() else \"cpu\")\n",
    "model = Seq2Seq(input_size, hidden_size, output_size, num_layers).to(device)\n",
    "criterion = nn.MSELoss()\n",
    "optimizer = optim.Adam(model.parameters(), lr=learning_rate)\n",
    "\n",
    "# Training and validation loop\n",
    "for epoch in range(num_epochs):\n",
    "    model.train()\n",
    "    train_loss = 0.0\n",
    "    for X_batch, y_batch in train_loader:\n",
    "        X_batch, y_batch = X_batch.to(device), y_batch.to(device)\n",
    "        \n",
    "        # Forward pass\n",
    "        outputs = model(X_batch)\n",
    "        loss = criterion(outputs, y_batch)\n",
    "        \n",
    "        # Backward pass and optimization\n",
    "        optimizer.zero_grad()\n",
    "        loss.backward()\n",
    "        optimizer.step()\n",
    "        \n",
    "        train_loss += loss.item() * X_batch.size(0)\n",
    "    \n",
    "    train_loss /= len(train_loader.dataset)\n",
    "    \n",
    "    # Validation phase\n",
    "    model.eval()\n",
    "    val_loss = 0.0\n",
    "    with torch.no_grad():\n",
    "        for X_batch, y_batch in val_loader:\n",
    "            X_batch, y_batch = X_batch.to(device), y_batch.to(device)\n",
    "            \n",
    "            outputs = model(X_batch)\n",
    "            loss = criterion(outputs, y_batch)\n",
    "            \n",
    "            val_loss += loss.item() * X_batch.size(0)\n",
    "    \n",
    "    val_loss /= len(val_loader.dataset)\n",
    "    \n",
    "    print(f'Epoch [{epoch+1}/{num_epochs}], Train Loss: {train_loss:.4f}, Val Loss: {val_loss:.4f}')"
   ]
  },
  {
   "cell_type": "code",
   "execution_count": 33,
   "id": "966faf7d-d70f-439a-b303-7a3e5bd02522",
   "metadata": {},
   "outputs": [],
   "source": [
    "import pickle\n",
    "\n",
    "# Open the file in read-binary mode\n",
    "with open('date perkasus.pkl', 'rb') as file:\n",
    "    # Use pickle.load to deserialize the object from the file\n",
    "    date_perkasus = pickle.load(file)"
   ]
  },
  {
   "cell_type": "code",
   "execution_count": 37,
   "id": "f35bb32f-2efc-403b-b100-85cd0fa5a8d4",
   "metadata": {},
   "outputs": [],
   "source": [
    "for kasus in date_perkasus:\n",
    "    date_kasus = date_perkasus[kasus]\n",
    "    for i in range(len(date_val_dataset)):\n",
    "        if (date_kasus == date_val_dataset[i]).all():\n",
    "            print(kasus, i)"
   ]
  }
 ],
 "metadata": {
  "kernelspec": {
   "display_name": "Python 3 (ipykernel)",
   "language": "python",
   "name": "python3"
  },
  "language_info": {
   "codemirror_mode": {
    "name": "ipython",
    "version": 3
   },
   "file_extension": ".py",
   "mimetype": "text/x-python",
   "name": "python",
   "nbconvert_exporter": "python",
   "pygments_lexer": "ipython3",
   "version": "3.12.4"
  }
 },
 "nbformat": 4,
 "nbformat_minor": 5
}
